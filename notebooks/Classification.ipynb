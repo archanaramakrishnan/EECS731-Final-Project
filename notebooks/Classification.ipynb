{
 "cells": [
  {
   "cell_type": "markdown",
   "metadata": {},
   "source": [
    "## Education and Food Security: a Classification Problem\n",
    "From the [Food Deserts in the USA](https://www.kaggle.com/tcrammond/food-access-and-food-deserts?select=food_access_research_atlas.csv) dataset on Kaggle: \"the USDA defines living in a food desert as: living more than one mile from a supermarket in urban/suburban areas, and more than 10 miles from a supermarket in rural areas\". \n",
    "\n",
    "### Indicators of Food Access\n",
    "From the documentation, we know the following:\n",
    "- Accessibility to sources of healthy food, as measured by distance to a store or by the number of stores in an area.\n",
    "- Individual-level resources that may affect accessibility, such as family income or vehicle availability.\n",
    "- Neighborhood-level indicators of resources, such as the average income of the neighborhood and the availability of public transportation.\n",
    "\n",
    "### Our Goal\n",
    "Using classification, **we will identify if a county is a food desert or not**. We will predict this using demographic information, academic performance, income etc. To test our results, we will use labels that contain flags to indicate if a county is a food desert. We will bin the food desert boolean averages, use principal componenent analysis (PCA) to feed the data into classification models."
   ]
  },
  {
   "cell_type": "code",
   "execution_count": 84,
   "metadata": {},
   "outputs": [],
   "source": [
    "import pandas as pd\n",
    "from sklearn.model_selection import train_test_split\n",
    "from sklearn.preprocessing import StandardScaler # standardizing data\n",
    "from sklearn.decomposition import PCA # principal componenent analysis\n",
    "from sklearn import tree #decision tree\n",
    "pd.set_option('display.max_colwidth', 0) #text reflow in columns\n",
    "from sklearn.metrics import accuracy_score #generate accuracy score\n",
    "from sklearn.ensemble import RandomForestClassifier #random forest model\n",
    "from sklearn.neural_network import MLPClassifier #neural network\n",
    "from sklearn.linear_model import LogisticRegression #logistic regression\n",
    "import matplotlib.pyplot as plt\n",
    "import numpy as np"
   ]
  },
  {
   "cell_type": "markdown",
   "metadata": {},
   "source": [
    "## Dataset\n",
    "The combined data set, as generated from the [Data Exploration notebook](https://github.com/archanaramakrishnan/EECS731-Final-Project/blob/main/notebooks/Data%20Exploration.ipynb) is loaded into a dataframe."
   ]
  },
  {
   "cell_type": "code",
   "execution_count": 85,
   "metadata": {
    "scrolled": false
   },
   "outputs": [
    {
     "data": {
      "text/html": [
       "<div>\n",
       "<style scoped>\n",
       "    .dataframe tbody tr th:only-of-type {\n",
       "        vertical-align: middle;\n",
       "    }\n",
       "\n",
       "    .dataframe tbody tr th {\n",
       "        vertical-align: top;\n",
       "    }\n",
       "\n",
       "    .dataframe thead th {\n",
       "        text-align: right;\n",
       "    }\n",
       "</style>\n",
       "<table border=\"1\" class=\"dataframe\">\n",
       "  <thead>\n",
       "    <tr style=\"text-align: right;\">\n",
       "      <th></th>\n",
       "      <th>Unnamed: 0</th>\n",
       "      <th>Educ_countyid</th>\n",
       "      <th>Educ_fips</th>\n",
       "      <th>Educ_gap_est</th>\n",
       "      <th>Educ_tot_asmts</th>\n",
       "      <th>Educ_cellcount</th>\n",
       "      <th>Educ_mn_asmts</th>\n",
       "      <th>Educ_mn_avg_ol</th>\n",
       "      <th>Educ_mn_grd_ol</th>\n",
       "      <th>Educ_mn_coh_ol</th>\n",
       "      <th>...</th>\n",
       "      <th>Food_HUNVFlag</th>\n",
       "      <th>Food_LowIncomeTracts</th>\n",
       "      <th>Food_LA1and10</th>\n",
       "      <th>Food_LAhalfand10</th>\n",
       "      <th>Food_LA1and20</th>\n",
       "      <th>Food_LATracts_half</th>\n",
       "      <th>Food_LATracts1</th>\n",
       "      <th>Food_LATracts10</th>\n",
       "      <th>Food_LATracts20</th>\n",
       "      <th>Food_LATractsVehicle_20</th>\n",
       "    </tr>\n",
       "  </thead>\n",
       "  <tbody>\n",
       "    <tr>\n",
       "      <th>0</th>\n",
       "      <td>0</td>\n",
       "      <td>1001</td>\n",
       "      <td>1</td>\n",
       "      <td>0</td>\n",
       "      <td>72864</td>\n",
       "      <td>96</td>\n",
       "      <td>759.000000</td>\n",
       "      <td>5.636815</td>\n",
       "      <td>1.048619</td>\n",
       "      <td>-0.092830</td>\n",
       "      <td>...</td>\n",
       "      <td>0.367558</td>\n",
       "      <td>0.113815</td>\n",
       "      <td>0.712558</td>\n",
       "      <td>0.752323</td>\n",
       "      <td>0.494695</td>\n",
       "      <td>0.534460</td>\n",
       "      <td>0.494695</td>\n",
       "      <td>0.217863</td>\n",
       "      <td>0.0</td>\n",
       "      <td>0.367558</td>\n",
       "    </tr>\n",
       "    <tr>\n",
       "      <th>1</th>\n",
       "      <td>1</td>\n",
       "      <td>1003</td>\n",
       "      <td>1</td>\n",
       "      <td>0</td>\n",
       "      <td>213214</td>\n",
       "      <td>96</td>\n",
       "      <td>2220.979167</td>\n",
       "      <td>5.428993</td>\n",
       "      <td>0.832481</td>\n",
       "      <td>-0.051916</td>\n",
       "      <td>...</td>\n",
       "      <td>0.131622</td>\n",
       "      <td>0.193888</td>\n",
       "      <td>0.454015</td>\n",
       "      <td>0.477223</td>\n",
       "      <td>0.430768</td>\n",
       "      <td>0.453976</td>\n",
       "      <td>0.430768</td>\n",
       "      <td>0.023246</td>\n",
       "      <td>0.0</td>\n",
       "      <td>0.131622</td>\n",
       "    </tr>\n",
       "    <tr>\n",
       "      <th>2</th>\n",
       "      <td>2</td>\n",
       "      <td>1005</td>\n",
       "      <td>1</td>\n",
       "      <td>0</td>\n",
       "      <td>26521</td>\n",
       "      <td>96</td>\n",
       "      <td>276.260417</td>\n",
       "      <td>3.692509</td>\n",
       "      <td>0.956793</td>\n",
       "      <td>0.129474</td>\n",
       "      <td>...</td>\n",
       "      <td>0.478931</td>\n",
       "      <td>0.768438</td>\n",
       "      <td>0.579087</td>\n",
       "      <td>0.579087</td>\n",
       "      <td>0.241760</td>\n",
       "      <td>0.241760</td>\n",
       "      <td>0.241760</td>\n",
       "      <td>0.337327</td>\n",
       "      <td>0.0</td>\n",
       "      <td>0.478931</td>\n",
       "    </tr>\n",
       "    <tr>\n",
       "      <th>3</th>\n",
       "      <td>3</td>\n",
       "      <td>1007</td>\n",
       "      <td>1</td>\n",
       "      <td>0</td>\n",
       "      <td>25678</td>\n",
       "      <td>96</td>\n",
       "      <td>267.479167</td>\n",
       "      <td>4.235791</td>\n",
       "      <td>0.996612</td>\n",
       "      <td>0.021188</td>\n",
       "      <td>...</td>\n",
       "      <td>0.382588</td>\n",
       "      <td>1.000000</td>\n",
       "      <td>0.000000</td>\n",
       "      <td>0.000000</td>\n",
       "      <td>0.000000</td>\n",
       "      <td>0.000000</td>\n",
       "      <td>0.000000</td>\n",
       "      <td>0.000000</td>\n",
       "      <td>0.0</td>\n",
       "      <td>0.382588</td>\n",
       "    </tr>\n",
       "    <tr>\n",
       "      <th>4</th>\n",
       "      <td>4</td>\n",
       "      <td>1009</td>\n",
       "      <td>1</td>\n",
       "      <td>0</td>\n",
       "      <td>71940</td>\n",
       "      <td>96</td>\n",
       "      <td>749.375000</td>\n",
       "      <td>4.689641</td>\n",
       "      <td>0.866955</td>\n",
       "      <td>0.091370</td>\n",
       "      <td>...</td>\n",
       "      <td>0.387931</td>\n",
       "      <td>0.434510</td>\n",
       "      <td>0.275304</td>\n",
       "      <td>0.275304</td>\n",
       "      <td>0.122989</td>\n",
       "      <td>0.122989</td>\n",
       "      <td>0.122989</td>\n",
       "      <td>0.152315</td>\n",
       "      <td>0.0</td>\n",
       "      <td>0.387931</td>\n",
       "    </tr>\n",
       "  </tbody>\n",
       "</table>\n",
       "<p>5 rows × 169 columns</p>\n",
       "</div>"
      ],
      "text/plain": [
       "   Unnamed: 0  Educ_countyid  Educ_fips  Educ_gap_est  Educ_tot_asmts  \\\n",
       "0  0           1001           1          0             72864            \n",
       "1  1           1003           1          0             213214           \n",
       "2  2           1005           1          0             26521            \n",
       "3  3           1007           1          0             25678            \n",
       "4  4           1009           1          0             71940            \n",
       "\n",
       "   Educ_cellcount  Educ_mn_asmts  Educ_mn_avg_ol  Educ_mn_grd_ol  \\\n",
       "0  96              759.000000     5.636815        1.048619         \n",
       "1  96              2220.979167    5.428993        0.832481         \n",
       "2  96              276.260417     3.692509        0.956793         \n",
       "3  96              267.479167     4.235791        0.996612         \n",
       "4  96              749.375000     4.689641        0.866955         \n",
       "\n",
       "   Educ_mn_coh_ol  ...  Food_HUNVFlag  Food_LowIncomeTracts  Food_LA1and10  \\\n",
       "0 -0.092830        ...  0.367558       0.113815              0.712558        \n",
       "1 -0.051916        ...  0.131622       0.193888              0.454015        \n",
       "2  0.129474        ...  0.478931       0.768438              0.579087        \n",
       "3  0.021188        ...  0.382588       1.000000              0.000000        \n",
       "4  0.091370        ...  0.387931       0.434510              0.275304        \n",
       "\n",
       "   Food_LAhalfand10  Food_LA1and20  Food_LATracts_half  Food_LATracts1  \\\n",
       "0  0.752323          0.494695       0.534460            0.494695         \n",
       "1  0.477223          0.430768       0.453976            0.430768         \n",
       "2  0.579087          0.241760       0.241760            0.241760         \n",
       "3  0.000000          0.000000       0.000000            0.000000         \n",
       "4  0.275304          0.122989       0.122989            0.122989         \n",
       "\n",
       "   Food_LATracts10  Food_LATracts20  Food_LATractsVehicle_20  \n",
       "0  0.217863         0.0              0.367558                 \n",
       "1  0.023246         0.0              0.131622                 \n",
       "2  0.337327         0.0              0.478931                 \n",
       "3  0.000000         0.0              0.382588                 \n",
       "4  0.152315         0.0              0.387931                 \n",
       "\n",
       "[5 rows x 169 columns]"
      ]
     },
     "execution_count": 85,
     "metadata": {},
     "output_type": "execute_result"
    }
   ],
   "source": [
    "combined_df = pd.read_csv(\"../data/combined_data.csv\")\n",
    "combined_df.head()"
   ]
  },
  {
   "cell_type": "markdown",
   "metadata": {},
   "source": [
    "### Identifying labels"
   ]
  },
  {
   "cell_type": "markdown",
   "metadata": {},
   "source": [
    "There are lots of columns in our dataset. Let's find the ones that we will use as labels. We will look for any columns that hold values to indicate if the county is a food desert:"
   ]
  },
  {
   "cell_type": "code",
   "execution_count": 86,
   "metadata": {},
   "outputs": [],
   "source": [
    "food_doc = pd.read_csv(\"../data/food_access_variable_lookup.csv\")"
   ]
  },
  {
   "cell_type": "code",
   "execution_count": 87,
   "metadata": {},
   "outputs": [
    {
     "data": {
      "text/html": [
       "<div>\n",
       "<style scoped>\n",
       "    .dataframe tbody tr th:only-of-type {\n",
       "        vertical-align: middle;\n",
       "    }\n",
       "\n",
       "    .dataframe tbody tr th {\n",
       "        vertical-align: top;\n",
       "    }\n",
       "\n",
       "    .dataframe thead th {\n",
       "        text-align: right;\n",
       "    }\n",
       "</style>\n",
       "<table border=\"1\" class=\"dataframe\">\n",
       "  <thead>\n",
       "    <tr style=\"text-align: right;\">\n",
       "      <th></th>\n",
       "      <th>Field</th>\n",
       "      <th>LongName</th>\n",
       "      <th>Description</th>\n",
       "    </tr>\n",
       "  </thead>\n",
       "  <tbody>\n",
       "    <tr>\n",
       "      <th>9</th>\n",
       "      <td>LILATracts_1And10</td>\n",
       "      <td>Low income and low access tract measured at 1 mile for urban areas and 10 miles for rural areas</td>\n",
       "      <td>Flag for food desert when considering low accessibilty at 1 and 10 miles</td>\n",
       "    </tr>\n",
       "    <tr>\n",
       "      <th>10</th>\n",
       "      <td>LILATracts_halfAnd10</td>\n",
       "      <td>Low income and low access tract measured at 1/2 mile for urban areas and 10 miles for rural areas</td>\n",
       "      <td>Flag for food desert when considering low accessibilty at 1/2 and 10 miles</td>\n",
       "    </tr>\n",
       "    <tr>\n",
       "      <th>11</th>\n",
       "      <td>LILATracts_1And20</td>\n",
       "      <td>Low income and low access tract measured at 1 mile for urban areas and 20 miles for rural areas</td>\n",
       "      <td>Flag for food desert when considering low accessibilty at 1 and 20 miles</td>\n",
       "    </tr>\n",
       "    <tr>\n",
       "      <th>12</th>\n",
       "      <td>LILATracts_Vehicle</td>\n",
       "      <td>Low income and low access tract using vehicle access or low income and low access tract measured at 20 miles</td>\n",
       "      <td>Flag for food desert when considering vehicle access or at 20 miles</td>\n",
       "    </tr>\n",
       "  </tbody>\n",
       "</table>\n",
       "</div>"
      ],
      "text/plain": [
       "                   Field  \\\n",
       "9   LILATracts_1And10      \n",
       "10  LILATracts_halfAnd10   \n",
       "11  LILATracts_1And20      \n",
       "12  LILATracts_Vehicle     \n",
       "\n",
       "                                                                                                        LongName  \\\n",
       "9   Low income and low access tract measured at 1 mile for urban areas and 10 miles for rural areas                \n",
       "10  Low income and low access tract measured at 1/2 mile for urban areas and 10 miles for rural areas              \n",
       "11  Low income and low access tract measured at 1 mile for urban areas and 20 miles for rural areas                \n",
       "12  Low income and low access tract using vehicle access or low income and low access tract measured at 20 miles   \n",
       "\n",
       "                                                                   Description  \n",
       "9   Flag for food desert when considering low accessibilty at 1 and 10 miles    \n",
       "10  Flag for food desert when considering low accessibilty at 1/2 and 10 miles  \n",
       "11  Flag for food desert when considering low accessibilty at 1 and 20 miles    \n",
       "12  Flag for food desert when considering vehicle access or at 20 miles         "
      ]
     },
     "execution_count": 87,
     "metadata": {},
     "output_type": "execute_result"
    }
   ],
   "source": [
    "desert_flags_labels = food_doc[food_doc['Description'].str.contains('food desert')]\n",
    "desert_flags_labels"
   ]
  },
  {
   "cell_type": "markdown",
   "metadata": {},
   "source": [
    "We idetified the following as our labels and store the names in a list for future use:"
   ]
  },
  {
   "cell_type": "code",
   "execution_count": 88,
   "metadata": {},
   "outputs": [
    {
     "name": "stdout",
     "output_type": "stream",
     "text": [
      "['Food_LILATracts_1And10', 'Food_LILATracts_halfAnd10', 'Food_LILATracts_1And20', 'Food_LILATracts_Vehicle']\n"
     ]
    }
   ],
   "source": [
    "label_list = desert_flags_labels['Field'].tolist()\n",
    "label_list = list(map(lambda label: 'Food_' + label, label_list) )\n",
    "print(label_list)"
   ]
  },
  {
   "cell_type": "markdown",
   "metadata": {},
   "source": [
    "### Average of Boolean Values\n",
    "From [0-Data_Exploration_And_Cleaning.ipynb](https://github.com/archanaramakrishnan/EECS731-Final-Project/blob/main/notebooks/0-Data_Exploration_And_Cleaning.ipynb) and [Data Exploration notebook](https://github.com/archanaramakrishnan/EECS731-Final-Project/blob/main/notebooks/Data%20Exploration.ipynb): \"For boolean type variables, the resulting average will represent a percentage (in decimal form) of how many tracts in that county had a value of 1 before combining.\" \n",
    "\n",
    "These percentages indicate how much of a food desert a Census-Tract is, where a value close to zero is not a less of a food desert than a value close to 1. "
   ]
  },
  {
   "cell_type": "code",
   "execution_count": 89,
   "metadata": {},
   "outputs": [
    {
     "data": {
      "text/html": [
       "<div>\n",
       "<style scoped>\n",
       "    .dataframe tbody tr th:only-of-type {\n",
       "        vertical-align: middle;\n",
       "    }\n",
       "\n",
       "    .dataframe tbody tr th {\n",
       "        vertical-align: top;\n",
       "    }\n",
       "\n",
       "    .dataframe thead th {\n",
       "        text-align: right;\n",
       "    }\n",
       "</style>\n",
       "<table border=\"1\" class=\"dataframe\">\n",
       "  <thead>\n",
       "    <tr style=\"text-align: right;\">\n",
       "      <th></th>\n",
       "      <th>Food_LILATracts_1And10</th>\n",
       "      <th>Food_LILATracts_halfAnd10</th>\n",
       "      <th>Food_LILATracts_1And20</th>\n",
       "      <th>Food_LILATracts_Vehicle</th>\n",
       "    </tr>\n",
       "  </thead>\n",
       "  <tbody>\n",
       "    <tr>\n",
       "      <th>0</th>\n",
       "      <td>0.113815</td>\n",
       "      <td>0.113815</td>\n",
       "      <td>0.052977</td>\n",
       "      <td>0.113815</td>\n",
       "    </tr>\n",
       "    <tr>\n",
       "      <th>1</th>\n",
       "      <td>0.102367</td>\n",
       "      <td>0.102367</td>\n",
       "      <td>0.102367</td>\n",
       "      <td>0.076038</td>\n",
       "    </tr>\n",
       "    <tr>\n",
       "      <th>2</th>\n",
       "      <td>0.347525</td>\n",
       "      <td>0.347525</td>\n",
       "      <td>0.166916</td>\n",
       "      <td>0.322213</td>\n",
       "    </tr>\n",
       "    <tr>\n",
       "      <th>3</th>\n",
       "      <td>0.000000</td>\n",
       "      <td>0.000000</td>\n",
       "      <td>0.000000</td>\n",
       "      <td>0.382588</td>\n",
       "    </tr>\n",
       "    <tr>\n",
       "      <th>4</th>\n",
       "      <td>0.000000</td>\n",
       "      <td>0.000000</td>\n",
       "      <td>0.000000</td>\n",
       "      <td>0.264942</td>\n",
       "    </tr>\n",
       "  </tbody>\n",
       "</table>\n",
       "</div>"
      ],
      "text/plain": [
       "   Food_LILATracts_1And10  Food_LILATracts_halfAnd10  Food_LILATracts_1And20  \\\n",
       "0  0.113815                0.113815                   0.052977                 \n",
       "1  0.102367                0.102367                   0.102367                 \n",
       "2  0.347525                0.347525                   0.166916                 \n",
       "3  0.000000                0.000000                   0.000000                 \n",
       "4  0.000000                0.000000                   0.000000                 \n",
       "\n",
       "   Food_LILATracts_Vehicle  \n",
       "0  0.113815                 \n",
       "1  0.076038                 \n",
       "2  0.322213                 \n",
       "3  0.382588                 \n",
       "4  0.264942                 "
      ]
     },
     "execution_count": 89,
     "metadata": {},
     "output_type": "execute_result"
    }
   ],
   "source": [
    "desert_flags = combined_df[label_list]\n",
    "desert_flags.head()"
   ]
  },
  {
   "cell_type": "code",
   "execution_count": 90,
   "metadata": {},
   "outputs": [
    {
     "data": {
      "text/plain": [
       "array([[<AxesSubplot:title={'center':'Food_LILATracts_1And10'}>,\n",
       "        <AxesSubplot:title={'center':'Food_LILATracts_halfAnd10'}>],\n",
       "       [<AxesSubplot:title={'center':'Food_LILATracts_1And20'}>,\n",
       "        <AxesSubplot:title={'center':'Food_LILATracts_Vehicle'}>]],\n",
       "      dtype=object)"
      ]
     },
     "execution_count": 90,
     "metadata": {},
     "output_type": "execute_result"
    },
    {
     "data": {
      "image/png": "[encoded data removed]",
      "text/plain": [
       "<Figure size 432x288 with 4 Axes>"
      ]
     },
     "metadata": {
      "needs_background": "light"
     },
     "output_type": "display_data"
    }
   ],
   "source": [
    "desert_flags.hist()"
   ]
  },
  {
   "cell_type": "markdown",
   "metadata": {},
   "source": [
    "### Binning the Average Values\n",
    "\n",
    "To indicate what category of a food desert a Census-Tract is, we create 5 bins:\n",
    "- 1: 0% - 20% \n",
    "- 2: 21% - 40% \n",
    "- 3: 41% - 60% \n",
    "- 4: 61% - 80%\n",
    "- 5: 81% - 100%\n",
    "- 6: invalid input (negatives or greater than 100%)"
   ]
  },
  {
   "cell_type": "code",
   "execution_count": 91,
   "metadata": {},
   "outputs": [],
   "source": [
    "def bin_desert(percent, bins):\n",
    "    for i in range(1, bins+1):\n",
    "        if percent <= i/bins and percent >= 0:\n",
    "            return i\n",
    "        \n",
    "    return bins+1 "
   ]
  },
  {
   "cell_type": "code",
   "execution_count": 92,
   "metadata": {
    "scrolled": false
   },
   "outputs": [
    {
     "data": {
      "text/html": [
       "<div>\n",
       "<style scoped>\n",
       "    .dataframe tbody tr th:only-of-type {\n",
       "        vertical-align: middle;\n",
       "    }\n",
       "\n",
       "    .dataframe tbody tr th {\n",
       "        vertical-align: top;\n",
       "    }\n",
       "\n",
       "    .dataframe thead th {\n",
       "        text-align: right;\n",
       "    }\n",
       "</style>\n",
       "<table border=\"1\" class=\"dataframe\">\n",
       "  <thead>\n",
       "    <tr style=\"text-align: right;\">\n",
       "      <th></th>\n",
       "      <th>Food_LILATracts_1And10</th>\n",
       "      <th>Food_LILATracts_halfAnd10</th>\n",
       "      <th>Food_LILATracts_1And20</th>\n",
       "      <th>Food_LILATracts_Vehicle</th>\n",
       "    </tr>\n",
       "  </thead>\n",
       "  <tbody>\n",
       "    <tr>\n",
       "      <th>0</th>\n",
       "      <td>1</td>\n",
       "      <td>1</td>\n",
       "      <td>1</td>\n",
       "      <td>1</td>\n",
       "    </tr>\n",
       "    <tr>\n",
       "      <th>1</th>\n",
       "      <td>1</td>\n",
       "      <td>1</td>\n",
       "      <td>1</td>\n",
       "      <td>1</td>\n",
       "    </tr>\n",
       "    <tr>\n",
       "      <th>2</th>\n",
       "      <td>2</td>\n",
       "      <td>2</td>\n",
       "      <td>1</td>\n",
       "      <td>2</td>\n",
       "    </tr>\n",
       "    <tr>\n",
       "      <th>3</th>\n",
       "      <td>1</td>\n",
       "      <td>1</td>\n",
       "      <td>1</td>\n",
       "      <td>2</td>\n",
       "    </tr>\n",
       "    <tr>\n",
       "      <th>4</th>\n",
       "      <td>1</td>\n",
       "      <td>1</td>\n",
       "      <td>1</td>\n",
       "      <td>2</td>\n",
       "    </tr>\n",
       "  </tbody>\n",
       "</table>\n",
       "</div>"
      ],
      "text/plain": [
       "   Food_LILATracts_1And10  Food_LILATracts_halfAnd10  Food_LILATracts_1And20  \\\n",
       "0  1                       1                          1                        \n",
       "1  1                       1                          1                        \n",
       "2  2                       2                          1                        \n",
       "3  1                       1                          1                        \n",
       "4  1                       1                          1                        \n",
       "\n",
       "   Food_LILATracts_Vehicle  \n",
       "0  1                        \n",
       "1  1                        \n",
       "2  2                        \n",
       "3  2                        \n",
       "4  2                        "
      ]
     },
     "execution_count": 92,
     "metadata": {},
     "output_type": "execute_result"
    }
   ],
   "source": [
    "desert_flags = desert_flags.apply(lambda x : x.apply( lambda y : bin_desert(y, 5)))\n",
    "desert_flags.head()"
   ]
  },
  {
   "cell_type": "code",
   "execution_count": 93,
   "metadata": {},
   "outputs": [
    {
     "data": {
      "text/plain": [
       "array([[<AxesSubplot:title={'center':'Food_LILATracts_1And10'}>,\n",
       "        <AxesSubplot:title={'center':'Food_LILATracts_halfAnd10'}>],\n",
       "       [<AxesSubplot:title={'center':'Food_LILATracts_1And20'}>,\n",
       "        <AxesSubplot:title={'center':'Food_LILATracts_Vehicle'}>]],\n",
       "      dtype=object)"
      ]
     },
     "execution_count": 93,
     "metadata": {},
     "output_type": "execute_result"
    },
    {
     "data": {
      "image/png": "[encoded data removed]",
      "text/plain": [
       "<Figure size 432x288 with 4 Axes>"
      ]
     },
     "metadata": {
      "needs_background": "light"
     },
     "output_type": "display_data"
    }
   ],
   "source": [
    "desert_flags.hist()"
   ]
  },
  {
   "cell_type": "markdown",
   "metadata": {},
   "source": [
    "We put these values back into the dataframe:"
   ]
  },
  {
   "cell_type": "code",
   "execution_count": 94,
   "metadata": {},
   "outputs": [],
   "source": [
    "combined_df[label_list] = desert_flags"
   ]
  },
  {
   "cell_type": "markdown",
   "metadata": {},
   "source": [
    "### Dealing with NaN values"
   ]
  },
  {
   "cell_type": "code",
   "execution_count": 95,
   "metadata": {
    "scrolled": true
   },
   "outputs": [
    {
     "data": {
      "text/html": [
       "<div>\n",
       "<style scoped>\n",
       "    .dataframe tbody tr th:only-of-type {\n",
       "        vertical-align: middle;\n",
       "    }\n",
       "\n",
       "    .dataframe tbody tr th {\n",
       "        vertical-align: top;\n",
       "    }\n",
       "\n",
       "    .dataframe thead th {\n",
       "        text-align: right;\n",
       "    }\n",
       "</style>\n",
       "<table border=\"1\" class=\"dataframe\">\n",
       "  <thead>\n",
       "    <tr style=\"text-align: right;\">\n",
       "      <th></th>\n",
       "      <th>Unnamed: 0</th>\n",
       "      <th>Educ_countyid</th>\n",
       "      <th>Educ_fips</th>\n",
       "      <th>Educ_gap_est</th>\n",
       "      <th>Educ_tot_asmts</th>\n",
       "      <th>Educ_cellcount</th>\n",
       "      <th>Educ_mn_asmts</th>\n",
       "      <th>Educ_mn_avg_ol</th>\n",
       "      <th>Educ_mn_grd_ol</th>\n",
       "      <th>Educ_mn_coh_ol</th>\n",
       "      <th>...</th>\n",
       "      <th>Food_HUNVFlag</th>\n",
       "      <th>Food_LowIncomeTracts</th>\n",
       "      <th>Food_LA1and10</th>\n",
       "      <th>Food_LAhalfand10</th>\n",
       "      <th>Food_LA1and20</th>\n",
       "      <th>Food_LATracts_half</th>\n",
       "      <th>Food_LATracts1</th>\n",
       "      <th>Food_LATracts10</th>\n",
       "      <th>Food_LATracts20</th>\n",
       "      <th>Food_LATractsVehicle_20</th>\n",
       "    </tr>\n",
       "  </thead>\n",
       "  <tbody>\n",
       "    <tr>\n",
       "      <th>67</th>\n",
       "      <td>67</td>\n",
       "      <td>2230</td>\n",
       "      <td>2</td>\n",
       "      <td>0</td>\n",
       "      <td>325</td>\n",
       "      <td>67</td>\n",
       "      <td>4.850746</td>\n",
       "      <td>7.531304</td>\n",
       "      <td>NaN</td>\n",
       "      <td>NaN</td>\n",
       "      <td>...</td>\n",
       "      <td>0.000000</td>\n",
       "      <td>0.000000</td>\n",
       "      <td>0.000000</td>\n",
       "      <td>0.000000</td>\n",
       "      <td>0.000000</td>\n",
       "      <td>0.000000</td>\n",
       "      <td>0.000000</td>\n",
       "      <td>0.000000</td>\n",
       "      <td>0.0</td>\n",
       "      <td>0.000000</td>\n",
       "    </tr>\n",
       "    <tr>\n",
       "      <th>159</th>\n",
       "      <td>159</td>\n",
       "      <td>6003</td>\n",
       "      <td>6</td>\n",
       "      <td>0</td>\n",
       "      <td>533</td>\n",
       "      <td>61</td>\n",
       "      <td>8.737705</td>\n",
       "      <td>5.046593</td>\n",
       "      <td>NaN</td>\n",
       "      <td>NaN</td>\n",
       "      <td>...</td>\n",
       "      <td>0.000000</td>\n",
       "      <td>0.000000</td>\n",
       "      <td>1.000000</td>\n",
       "      <td>1.000000</td>\n",
       "      <td>0.000000</td>\n",
       "      <td>0.000000</td>\n",
       "      <td>0.000000</td>\n",
       "      <td>1.000000</td>\n",
       "      <td>0.0</td>\n",
       "      <td>0.000000</td>\n",
       "    </tr>\n",
       "    <tr>\n",
       "      <th>217</th>\n",
       "      <td>217</td>\n",
       "      <td>8003</td>\n",
       "      <td>8</td>\n",
       "      <td>0</td>\n",
       "      <td>7778</td>\n",
       "      <td>42</td>\n",
       "      <td>185.190476</td>\n",
       "      <td>5.493467</td>\n",
       "      <td>NaN</td>\n",
       "      <td>NaN</td>\n",
       "      <td>...</td>\n",
       "      <td>0.310521</td>\n",
       "      <td>1.000000</td>\n",
       "      <td>0.836063</td>\n",
       "      <td>0.836063</td>\n",
       "      <td>0.721140</td>\n",
       "      <td>0.721140</td>\n",
       "      <td>0.721140</td>\n",
       "      <td>0.114924</td>\n",
       "      <td>0.0</td>\n",
       "      <td>0.310521</td>\n",
       "    </tr>\n",
       "    <tr>\n",
       "      <th>218</th>\n",
       "      <td>218</td>\n",
       "      <td>8005</td>\n",
       "      <td>8</td>\n",
       "      <td>0</td>\n",
       "      <td>308032</td>\n",
       "      <td>37</td>\n",
       "      <td>8325.189189</td>\n",
       "      <td>5.996026</td>\n",
       "      <td>0.930396</td>\n",
       "      <td>NaN</td>\n",
       "      <td>...</td>\n",
       "      <td>0.145768</td>\n",
       "      <td>0.363584</td>\n",
       "      <td>0.280673</td>\n",
       "      <td>0.905959</td>\n",
       "      <td>0.271745</td>\n",
       "      <td>0.897030</td>\n",
       "      <td>0.271745</td>\n",
       "      <td>0.008928</td>\n",
       "      <td>0.0</td>\n",
       "      <td>0.145768</td>\n",
       "    </tr>\n",
       "    <tr>\n",
       "      <th>219</th>\n",
       "      <td>219</td>\n",
       "      <td>8007</td>\n",
       "      <td>8</td>\n",
       "      <td>0</td>\n",
       "      <td>4491</td>\n",
       "      <td>43</td>\n",
       "      <td>104.441860</td>\n",
       "      <td>5.731876</td>\n",
       "      <td>NaN</td>\n",
       "      <td>NaN</td>\n",
       "      <td>...</td>\n",
       "      <td>0.000000</td>\n",
       "      <td>0.711437</td>\n",
       "      <td>0.540963</td>\n",
       "      <td>0.540963</td>\n",
       "      <td>0.442651</td>\n",
       "      <td>0.442651</td>\n",
       "      <td>0.442651</td>\n",
       "      <td>0.098312</td>\n",
       "      <td>0.0</td>\n",
       "      <td>0.000000</td>\n",
       "    </tr>\n",
       "  </tbody>\n",
       "</table>\n",
       "<p>5 rows × 169 columns</p>\n",
       "</div>"
      ],
      "text/plain": [
       "     Unnamed: 0  Educ_countyid  Educ_fips  Educ_gap_est  Educ_tot_asmts  \\\n",
       "67   67          2230           2          0             325              \n",
       "159  159         6003           6          0             533              \n",
       "217  217         8003           8          0             7778             \n",
       "218  218         8005           8          0             308032           \n",
       "219  219         8007           8          0             4491             \n",
       "\n",
       "     Educ_cellcount  Educ_mn_asmts  Educ_mn_avg_ol  Educ_mn_grd_ol  \\\n",
       "67   67              4.850746       7.531304       NaN               \n",
       "159  61              8.737705       5.046593       NaN               \n",
       "217  42              185.190476     5.493467       NaN               \n",
       "218  37              8325.189189    5.996026        0.930396         \n",
       "219  43              104.441860     5.731876       NaN               \n",
       "\n",
       "     Educ_mn_coh_ol  ...  Food_HUNVFlag  Food_LowIncomeTracts  Food_LA1and10  \\\n",
       "67  NaN              ...  0.000000       0.000000              0.000000        \n",
       "159 NaN              ...  0.000000       0.000000              1.000000        \n",
       "217 NaN              ...  0.310521       1.000000              0.836063        \n",
       "218 NaN              ...  0.145768       0.363584              0.280673        \n",
       "219 NaN              ...  0.000000       0.711437              0.540963        \n",
       "\n",
       "     Food_LAhalfand10  Food_LA1and20  Food_LATracts_half  Food_LATracts1  \\\n",
       "67   0.000000          0.000000       0.000000            0.000000         \n",
       "159  1.000000          0.000000       0.000000            0.000000         \n",
       "217  0.836063          0.721140       0.721140            0.721140         \n",
       "218  0.905959          0.271745       0.897030            0.271745         \n",
       "219  0.540963          0.442651       0.442651            0.442651         \n",
       "\n",
       "     Food_LATracts10  Food_LATracts20  Food_LATractsVehicle_20  \n",
       "67   0.000000         0.0              0.000000                 \n",
       "159  1.000000         0.0              0.000000                 \n",
       "217  0.114924         0.0              0.310521                 \n",
       "218  0.008928         0.0              0.145768                 \n",
       "219  0.098312         0.0              0.000000                 \n",
       "\n",
       "[5 rows x 169 columns]"
      ]
     },
     "execution_count": 95,
     "metadata": {},
     "output_type": "execute_result"
    }
   ],
   "source": [
    "combined_df[combined_df.isna().any(axis=1)].head()"
   ]
  },
  {
   "cell_type": "code",
   "execution_count": 96,
   "metadata": {},
   "outputs": [
    {
     "data": {
      "text/plain": [
       "3.8272816486751715"
      ]
     },
     "execution_count": 96,
     "metadata": {},
     "output_type": "execute_result"
    }
   ],
   "source": [
    "total_rows = combined_df.shape[0]\n",
    "nan_rows = combined_df[combined_df.isna().any(axis=1)].shape[0]\n",
    "(nan_rows/total_rows)*100"
   ]
  },
  {
   "cell_type": "markdown",
   "metadata": {},
   "source": [
    "3.83 percent of all the rows contain some undefined data. We chose to fill the NaN values with the mean of the column they occur in."
   ]
  },
  {
   "cell_type": "code",
   "execution_count": 97,
   "metadata": {},
   "outputs": [],
   "source": [
    "combined_df = combined_df.fillna(combined_df.mean())"
   ]
  },
  {
   "cell_type": "markdown",
   "metadata": {},
   "source": [
    "## Splitting the Data"
   ]
  },
  {
   "cell_type": "markdown",
   "metadata": {},
   "source": [
    "From the [Data Exploration](https://github.com/archanaramakrishnan/EECS731-Final-Project/blob/main/notebooks/Data%20Exploration.ipynb) notebook, we have the following columns:\n",
    "- bool_columns: binary data\n",
    "- tot_columns: absolute numbers\n",
    "- pct_columns: percentage data\n",
    "- other_colns: geographical data, family income, census tract\n",
    "\n",
    "When deciding which columns to use as features for the classification model, we decided to use percentages instead of absolute numbers. So, we drop the latter. The boolean values are helpful information. Identifier like state names, Federal Information Processing Standards (FIPS) codes are unhelpful in finding correlations, so we remove them."
   ]
  },
  {
   "cell_type": "code",
   "execution_count": 98,
   "metadata": {},
   "outputs": [
    {
     "name": "stdout",
     "output_type": "stream",
     "text": [
      "['Food_LILATracts_1And10', 'Food_LILATracts_halfAnd10', 'Food_LILATracts_1And20', 'Food_LILATracts_Vehicle']\n"
     ]
    }
   ],
   "source": [
    "# absolte value columns that are not required\n",
    "tot_columns  = ['POP2010',\n",
    "                'OHU2010',\n",
    "                'NUMGQTRS',\n",
    "                'LAPOP1_10',\n",
    "                'LAPOP05_10',\n",
    "                'LAPOP1_20',\n",
    "                'LALOWI1_10',\n",
    "                'LALOWI05_10',\n",
    "                'LALOWI1_20',\n",
    "                'lapophalf',\n",
    "                'lalowihalf',\n",
    "                'lakidshalf',\n",
    "                'laseniorshalf',\n",
    "                'lawhitehalf',\n",
    "                'lablackhalf',\n",
    "                'laasianhalf',\n",
    "                'lanhopihalf',\n",
    "                'laaianhalf',\n",
    "                'laomultirhalf',\n",
    "                'lahisphalf',\n",
    "                'lahunvhalf',\n",
    "                'lasnaphalf',\n",
    "                'lapop1',\n",
    "                'lalowi1',\n",
    "                'lakids1',\n",
    "                'laseniors1',\n",
    "                'lawhite1',\n",
    "                'lablack1',\n",
    "                'laasian1',\n",
    "                'lanhopi1',\n",
    "                'laaian1',\n",
    "                'laomultir1',\n",
    "                'lahisp1',\n",
    "                'lahunv1',\n",
    "                'lasnap1',\n",
    "                'lapop10',\n",
    "                'lalowi10',\n",
    "                'lakids10',\n",
    "                'laseniors10',\n",
    "                'lawhite10',\n",
    "                'lablack10',\n",
    "                'laasian10',\n",
    "                'lanhopi10',\n",
    "                'laaian10',\n",
    "                'laomultir10',\n",
    "                'lahisp10',\n",
    "                'lahunv10',\n",
    "                'lasnap10',\n",
    "                'lapop20',\n",
    "                'lalowi20',\n",
    "                'lakids20',\n",
    "                'laseniors20',\n",
    "                'lawhite20',\n",
    "                'lablack20',\n",
    "                'laasian20',\n",
    "                'lanhopi20',\n",
    "                'laaian20',\n",
    "                'laomultir20',\n",
    "                'lahisp20',\n",
    "                'lahunv20',\n",
    "                'lasnap20',\n",
    "                'TractLOWI',\n",
    "                'TractKids',\n",
    "                'TractSeniors',\n",
    "                'TractWhite',\n",
    "                'TractBlack',\n",
    "                'TractAsian',\n",
    "                'TractNHOPI',\n",
    "                'TractAIAN',\n",
    "                'TractOMultir',\n",
    "                'TractHispanic',\n",
    "                'TractHUNV',\n",
    "                'TractSNAP',]\n",
    "\n",
    "# other columns that are not required\n",
    "\n",
    "location_columns = ['County', 'State', 'Educ_fips', 'Educ_countyid']\n",
    "\n",
    "education_columns = ['Educ_cellcount',  'Educ_tot_asmts', 'Educ_gap_est']\n",
    "\n",
    "tot_columns = list(map(lambda label: 'Food_' + label, tot_columns) )\n",
    "\n",
    "senior_info = food_doc[food_doc['Description'].str.contains('senior')]\n",
    "senior_columns = senior_info['Field'].tolist()\n",
    "senior_columns = list(map(lambda label: 'Food_' + label, senior_columns) )\n",
    "print(label_list)"
   ]
  },
  {
   "cell_type": "code",
   "execution_count": 99,
   "metadata": {},
   "outputs": [
    {
     "data": {
      "text/plain": [
       "['Food_laseniorshalfshare',\n",
       " 'Food_laseniors1share',\n",
       " 'Food_laseniors10share',\n",
       " 'Food_laseniors20share',\n",
       " 'Food_TractSeniors']"
      ]
     },
     "execution_count": 99,
     "metadata": {},
     "output_type": "execute_result"
    }
   ],
   "source": [
    "senior_columns"
   ]
  },
  {
   "cell_type": "markdown",
   "metadata": {},
   "source": [
    "### Identifying Features\n",
    "The features will have all columns from the df execpt for the following, which we drop:\n",
    "- tot_columns: absolute numbers (as opposed to relative percentages)\n",
    "- label_list: list of food desert indicator labels\n",
    "- location_columns: location information like county, state and location IDs\n",
    "- education_columns: count information of education information\n",
    "- senior_columns: information regarding older people, since we're focused on children "
   ]
  },
  {
   "cell_type": "code",
   "execution_count": 100,
   "metadata": {},
   "outputs": [],
   "source": [
    "features = combined_df.copy();\n",
    "features = features.drop(columns = (tot_columns + label_list + location_columns + education_columns + senior_columns))"
   ]
  },
  {
   "cell_type": "markdown",
   "metadata": {},
   "source": [
    "### Creating Four Sets of Data\n",
    "We will run models on each of the classes we identified (names stored in label_list). The features we will use will be the same across all models. Here, we create lists to hold the four different X, Y train and test data."
   ]
  },
  {
   "cell_type": "code",
   "execution_count": 101,
   "metadata": {},
   "outputs": [],
   "source": [
    "X_train, X_test, Y_train, Y_test = ([None] * 10 for i in range(4))\n",
    "len(X_train)\n",
    "for i in range(0,4):\n",
    "    X_train[i], X_test[i], Y_train[i], Y_test[i] = train_test_split(features, combined_df[label_list[i]], test_size=0.1, random_state=0)"
   ]
  },
  {
   "cell_type": "markdown",
   "metadata": {},
   "source": [
    "### Distribution Between Two Datasets\n",
    "The features contain the following number of columns from each dataset:"
   ]
  },
  {
   "cell_type": "code",
   "execution_count": 102,
   "metadata": {},
   "outputs": [
    {
     "name": "stdout",
     "output_type": "stream",
     "text": [
      "17 education data columns\n",
      "63 food data columns\n"
     ]
    }
   ],
   "source": [
    "col_names = list(features.columns.values.tolist())\n",
    "edu = 0\n",
    "food = 0\n",
    "for col in col_names:\n",
    "    if 'Educ_' in col:\n",
    "        edu = edu + 1\n",
    "    if 'Food_' in col:\n",
    "        food = food + 1\n",
    "        \n",
    "print(str(edu) + \" education data columns\")\n",
    "print(str(food) + \" food data columns\")"
   ]
  },
  {
   "cell_type": "markdown",
   "metadata": {},
   "source": [
    "## Accuracy\n",
    "\n",
    "The following function shows how far off predictions are. It's useful because the categories we've defined are linearly ordered. That is, the 20% bracket is strictly less than the 40% bracket. This presents a bit of a problem at the borders between classes. We can use this measure along with the classic means for determining accuracy to see if we are wildly off if there's a possiblity that the prediction isn't so far off. "
   ]
  },
  {
   "cell_type": "code",
   "execution_count": 103,
   "metadata": {},
   "outputs": [],
   "source": [
    "def class_closeness_accuracy(truth, pred):\n",
    "    if (len(truth) != len(pred)):\n",
    "        print (\"Arguments must be of equal length (RIP your control flow)\")\n",
    "        return None\n",
    "    corr = 0\n",
    "    off1 = 0\n",
    "    off2 = 0\n",
    "    off3 = 0\n",
    "    off4 = 0\n",
    "    \n",
    "    for t,p in zip(truth, pred):\n",
    "        diff = abs(t-p)\n",
    "        \n",
    "        if (diff == 0):\n",
    "            corr += 1\n",
    "        elif (diff == 1):\n",
    "            off1 += 1\n",
    "        elif (diff == 2):\n",
    "            off2 += 1\n",
    "        elif (diff == 3):\n",
    "            off3 += 1\n",
    "        elif (diff == 4):\n",
    "            off4 += 1\n",
    "    \n",
    "    return (corr, off1, off2, off3, off4)\n",
    " \n",
    "def print_class_closeness(truth, pred):\n",
    "    c, o1, o2, o3, o4 = class_closeness_accuracy(truth, pred)\n",
    "    \n",
    "    print (\"Correct:\", c)\n",
    "    print (\"Off by 1:\", o1)\n",
    "    print (\"Off by 2:\", o2)\n",
    "    print (\"Off by 3:\", o3)\n",
    "    print (\"Off by 4:\", o4)"
   ]
  },
  {
   "cell_type": "markdown",
   "metadata": {},
   "source": [
    "## Principal Component Analysis (PCA)"
   ]
  },
  {
   "cell_type": "markdown",
   "metadata": {},
   "source": [
    "PCA helps us trim down the number of features for some of our models to perform better. First, we standardize the data. Here, we are tranforming the data to unit scale, where mean = 0 and variance = 1, to have better performance of the model. We apply PCA by making an instance of the model and fitting PCA on the training set."
   ]
  },
  {
   "cell_type": "code",
   "execution_count": 104,
   "metadata": {},
   "outputs": [],
   "source": [
    "def pca(X_train, X_test):\n",
    "    # Fit on training set only.\n",
    "    scaler = StandardScaler()\n",
    "    scaler.fit(X_train)\n",
    "\n",
    "    # Apply transform to both the training set and the test set.\n",
    "    X_train_pca = scaler.transform(X_train)\n",
    "    X_test_pca = scaler.transform(X_test)\n",
    "    \n",
    "    # Make an instance of the Model and fit\n",
    "    pca = PCA(.95)\n",
    "    pca.fit(X_train_pca)\n",
    "\n",
    "    # Apply transform to both the training set and the test set.\n",
    "    X_train_pca = pca.transform(X_train_pca)\n",
    "    X_test_pca = pca.transform(X_test_pca)\n",
    "    \n",
    "    return (X_train_pca, X_test_pca)"
   ]
  },
  {
   "cell_type": "markdown",
   "metadata": {},
   "source": [
    "## Classification Models"
   ]
  },
  {
   "cell_type": "code",
   "execution_count": 105,
   "metadata": {},
   "outputs": [],
   "source": [
    "def draw_plot(prediction, real):    \n",
    "    bins = range(1,7)\n",
    "    plt.hist([real,prediction], bins=bins, label=['Real', 'Prediction'], color=['blue', 'green'], align='mid')\n",
    "    plt.legend()   \n",
    "    plt.show() "
   ]
  },
  {
   "cell_type": "code",
   "execution_count": 106,
   "metadata": {},
   "outputs": [],
   "source": [
    "def run_model(X_train, X_test, Y_train, Y_test, model):\n",
    "    model.fit(X_train, Y_train)\n",
    "    prediction = model.predict(X_test)\n",
    "    print(\"\\nAccuracy: \" + \n",
    "      str((accuracy_score(Y_test, prediction)*100).round(5)) + '%')\n",
    "    print_class_closeness(Y_test, prediction)\n",
    "    draw_plot(prediction, Y_test)"
   ]
  },
  {
   "cell_type": "markdown",
   "metadata": {},
   "source": [
    "## Decision Tree\n",
    "We used the decision tree on the original data as it does not require data normalisation. It gave us one of the best results for supervised learning models."
   ]
  },
  {
   "cell_type": "code",
   "execution_count": 107,
   "metadata": {
    "scrolled": true
   },
   "outputs": [
    {
     "name": "stdout",
     "output_type": "stream",
     "text": [
      "\n",
      "Decision Tree Classifier with  Food_LILATracts_1And10 as label:\n",
      "_______________________________________________________________\n",
      "\n",
      "Accuracy: 75.4902%\n",
      "Correct: 231\n",
      "Off by 1: 74\n",
      "Off by 2: 1\n",
      "Off by 3: 0\n",
      "Off by 4: 0\n"
     ]
    },
    {
     "data": {
      "image/png": "[encoded data removed]",
      "text/plain": [
       "<Figure size 432x288 with 1 Axes>"
      ]
     },
     "metadata": {
      "needs_background": "light"
     },
     "output_type": "display_data"
    },
    {
     "name": "stdout",
     "output_type": "stream",
     "text": [
      "\n",
      "Decision Tree Classifier with  Food_LILATracts_halfAnd10 as label:\n",
      "_______________________________________________________________\n",
      "\n",
      "Accuracy: 80.71895%\n",
      "Correct: 247\n",
      "Off by 1: 57\n",
      "Off by 2: 2\n",
      "Off by 3: 0\n",
      "Off by 4: 0\n"
     ]
    },
    {
     "data": {
      "image/png": "[encoded data removed]",
      "text/plain": [
       "<Figure size 432x288 with 1 Axes>"
      ]
     },
     "metadata": {
      "needs_background": "light"
     },
     "output_type": "display_data"
    },
    {
     "name": "stdout",
     "output_type": "stream",
     "text": [
      "\n",
      "Decision Tree Classifier with  Food_LILATracts_1And20 as label:\n",
      "_______________________________________________________________\n",
      "\n",
      "Accuracy: 86.60131%\n",
      "Correct: 265\n",
      "Off by 1: 41\n",
      "Off by 2: 0\n",
      "Off by 3: 0\n",
      "Off by 4: 0\n"
     ]
    },
    {
     "data": {
      "image/png": "[encoded data removed]",
      "text/plain": [
       "<Figure size 432x288 with 1 Axes>"
      ]
     },
     "metadata": {
      "needs_background": "light"
     },
     "output_type": "display_data"
    },
    {
     "name": "stdout",
     "output_type": "stream",
     "text": [
      "\n",
      "Decision Tree Classifier with  Food_LILATracts_Vehicle as label:\n",
      "_______________________________________________________________\n",
      "\n",
      "Accuracy: 83.98693%\n",
      "Correct: 257\n",
      "Off by 1: 47\n",
      "Off by 2: 2\n",
      "Off by 3: 0\n",
      "Off by 4: 0\n"
     ]
    },
    {
     "data": {
      "image/png": "[encoded data removed]",
      "text/plain": [
       "<Figure size 432x288 with 1 Axes>"
      ]
     },
     "metadata": {
      "needs_background": "light"
     },
     "output_type": "display_data"
    }
   ],
   "source": [
    "for i in range(0,4):\n",
    "    print(\"\\nDecision Tree Classifier with \", label_list[i] , \"as label:\")\n",
    "    print(\"_______________________________________________________________\")\n",
    "    run_model(X_train[i], X_test[i], Y_train[i], Y_test[i], tree.DecisionTreeClassifier())"
   ]
  },
  {
   "cell_type": "markdown",
   "metadata": {},
   "source": [
    "## Logistic Regression\n",
    "Next, we used the logistic regression model which worked better with the normalized data after performing PCA."
   ]
  },
  {
   "cell_type": "code",
   "execution_count": 108,
   "metadata": {},
   "outputs": [
    {
     "name": "stdout",
     "output_type": "stream",
     "text": [
      "\n",
      "Logistic Regression Classifier with  Food_LILATracts_1And10 as label:\n",
      "__________________________________________________________________________\n",
      "\n",
      "Accuracy: 72.87582%\n",
      "Correct: 223\n",
      "Off by 1: 74\n",
      "Off by 2: 9\n",
      "Off by 3: 0\n",
      "Off by 4: 0\n"
     ]
    },
    {
     "data": {
      "image/png": "[encoded data removed]",
      "text/plain": [
       "<Figure size 432x288 with 1 Axes>"
      ]
     },
     "metadata": {
      "needs_background": "light"
     },
     "output_type": "display_data"
    },
    {
     "name": "stdout",
     "output_type": "stream",
     "text": [
      "\n",
      "Logistic Regression Classifier with  Food_LILATracts_halfAnd10 as label:\n",
      "__________________________________________________________________________\n",
      "\n",
      "Accuracy: 65.68627%\n",
      "Correct: 201\n",
      "Off by 1: 98\n",
      "Off by 2: 7\n",
      "Off by 3: 0\n",
      "Off by 4: 0\n"
     ]
    },
    {
     "data": {
      "image/png": "[encoded data removed]",
      "text/plain": [
       "<Figure size 432x288 with 1 Axes>"
      ]
     },
     "metadata": {
      "needs_background": "light"
     },
     "output_type": "display_data"
    },
    {
     "name": "stdout",
     "output_type": "stream",
     "text": [
      "\n",
      "Logistic Regression Classifier with  Food_LILATracts_1And20 as label:\n",
      "__________________________________________________________________________\n",
      "\n",
      "Accuracy: 80.71895%\n",
      "Correct: 247\n",
      "Off by 1: 53\n",
      "Off by 2: 4\n",
      "Off by 3: 0\n",
      "Off by 4: 2\n"
     ]
    },
    {
     "data": {
      "image/png": "[encoded data removed]",
      "text/plain": [
       "<Figure size 432x288 with 1 Axes>"
      ]
     },
     "metadata": {
      "needs_background": "light"
     },
     "output_type": "display_data"
    },
    {
     "name": "stdout",
     "output_type": "stream",
     "text": [
      "\n",
      "Logistic Regression Classifier with  Food_LILATracts_Vehicle as label:\n",
      "__________________________________________________________________________\n",
      "\n",
      "Accuracy: 76.79739%\n",
      "Correct: 235\n",
      "Off by 1: 66\n",
      "Off by 2: 4\n",
      "Off by 3: 0\n",
      "Off by 4: 1\n"
     ]
    },
    {
     "data": {
      "image/png": "[encoded data removed]",
      "text/plain": [
       "<Figure size 432x288 with 1 Axes>"
      ]
     },
     "metadata": {
      "needs_background": "light"
     },
     "output_type": "display_data"
    }
   ],
   "source": [
    "for i in range(0,4):\n",
    "    print(\"\\nLogistic Regression Classifier with \", label_list[i] , \"as label:\")\n",
    "    print(\"__________________________________________________________________________\")\n",
    "    X_train_pca, X_test_pca = pca(X_train[i], X_test[i]) \n",
    "    run_model(X_train_pca, X_test_pca, Y_train[i], Y_test[i], LogisticRegression(random_state=0, max_iter=550))"
   ]
  }
 ],
 "metadata": {
  "kernelspec": {
   "display_name": "Python 3",
   "language": "python",
   "name": "python3"
  },
  "language_info": {
   "codemirror_mode": {
    "name": "ipython",
    "version": 3
   },
   "file_extension": ".py",
   "mimetype": "text/x-python",
   "name": "python",
   "nbconvert_exporter": "python",
   "pygments_lexer": "ipython3",
   "version": "3.8.6"
  }
 },
 "nbformat": 4,
 "nbformat_minor": 4
}
