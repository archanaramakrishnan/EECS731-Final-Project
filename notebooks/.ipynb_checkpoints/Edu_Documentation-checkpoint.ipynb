{
 "cells": [
  {
   "cell_type": "code",
   "execution_count": null,
   "metadata": {
    "colab": {
     "base_uri": "https://localhost:8080/",
     "height": 34
    },
    "executionInfo": {
     "elapsed": 426,
     "status": "ok",
     "timestamp": 1603304785866,
     "user": {
      "displayName": "Grant Gollier",
      "photoUrl": "https://lh3.googleusercontent.com/a-/AOh14GhkpCJzaeDTgz_RVH-ZKjaBiW-wa5LXQ-j_aczLQQ=s64",
      "userId": "05299457576199555117"
     },
     "user_tz": 300
    },
    "id": "I7J7zquUZ6aG",
    "outputId": "52f722cd-6601-47c2-95e4-dd0da52ad69e"
   },
   "outputs": [
    {
     "name": "stdout",
     "output_type": "stream",
     "text": [
      "Hello, world!\n"
     ]
    }
   ],
   "source": [
    "print(\"Hello, world!\")"
   ]
  },
  {
   "cell_type": "code",
   "execution_count": null,
   "metadata": {
    "colab": {
     "base_uri": "https://localhost:8080/",
     "height": 34
    },
    "executionInfo": {
     "elapsed": 1048,
     "status": "ok",
     "timestamp": 1603304851398,
     "user": {
      "displayName": "Anna Fritz",
      "photoUrl": "",
      "userId": "03073872417695927328"
     },
     "user_tz": 300
    },
    "id": "tOcE6ulqakFt",
    "outputId": "b575e708-fceb-47de-9bfd-d57d61fbb01f"
   },
   "outputs": [
    {
     "name": "stdout",
     "output_type": "stream",
     "text": [
      "hey\n"
     ]
    }
   ],
   "source": [
    "print(\"hey\")"
   ]
  },
  {
   "cell_type": "markdown",
   "metadata": {
    "id": "sqLDIPblUCJm"
   },
   "source": [
    "Documentation from *SEDA_documentation_v30* and the *seda_codebook_county_v30* and *seda_codebook_school_v30 spreadsheets* from the [Stanford Education Data Archive (SEDA) ](https://edopportunity.org/get-the-data/seda-archive-downloads/#testscore-3)\n",
    "\n",
    "### Terminologies\n",
    "- **Subgroups** represent the student demographic subgroups include race/ethnicity, gender, and socioeconomic disadvantage\n",
    "- **Gaps** are estimated as the difference in average achievement between subgroups, using the mean estimates from the following steps\n",
    "    - mean and standard deviation of test scores for each subgroup in each unit (school or district) across subjects, grades, and years\n",
    "    - estimate the mean and standard deviation of achievement in counties\n",
    "    - standardize the cutscores prior to estimation\n",
    "- **The GCS scale** standardizes the unit means relative to the average difference in National Assessment of Educational Progress (NAEP) scores between students one grade level apart\n",
    "- **Pooled estimates** means we pool the estimates within a unit using precision-weighted random coefficient models. These models provide more precise estimates of average performance in a unit (across grades and cohorts), as well as estimates of the grade slope and cohort slope\n",
    "- **Grade slope** is the “learning rate” at which scores change across grades, within a cohort\n",
    "- **Cohort Slope** is the “trend” or rate at which scores change across student cohorts, within a grade\n",
    "\n",
    "\n",
    "|  Column Name | Value  |\n",
    "|---|---|\n",
    "| Educ_countyid  | Federal Information Processing Standard (FIPS) County Code  |\n",
    "| Educ_countyname  | County Name |\n",
    "| Educ_fips  | FIPS State Code  |\n",
    "| Educ_stateabb  | State Abbreviation  |\n",
    "| Educ_subgroup  | Subgroup of estimates, or subgroups of gap estimates |\n",
    "| Educ_gap_est  | Row is a gap estimate (subgroup indicates which gap) |\n",
    "| Educ_tot_asmts  | Total number of tests (math+english language arts (ela)) for pooled estimates  |\n",
    "| Educ_cellcount  | Total number of cells (math+ela) for pooled estimates  |\n",
    "| Educ_mn_asmts  | Total number of cells (math+ela) for pooled estimates  |\n",
    "| Educ_mn_avg_ol  | School Mean Ach, Math&ELA, OLS est, CS  |\n",
    "| Educ_mn_grd_ol  | School Grade Slope of Mean Ach, Math&ELA, OLS est, CS  |\n",
    "| Educ_mn_coh_ol  | School Grade Slope of Mean Ach, Math&ELA, OLS est, CS  |\n",
    "| Educ_mn_mth_ol | School Math-ELA Diff in Mean Ach, Math&ELA, OLS est, CS  |\n",
    "| Educ_mn_avg_eb  | School Mean Ach, Math&ELA, EB est, CS  |\n",
    "| Educ_mn_grd_eb | School Grade Slope of Mean Ach, Math&ELA, EB est, CS  |\n",
    "| Educ_mn_coh_eb | School Cohort Slope of Mean Ach, Math&ELA, EB est, CS  |\n",
    "| Educ_mn_mth_eb  | School Math-ELA Diff in Mean Ach, Math&ELA, EB est, CS  |\n",
    "| Educ_mn_avg_eb_se  | School SE of Mean Ach, Math&ELA, EB est, CS  |\n",
    "| Educ_mn_grd_eb_se  | School SE of Grade Slope of Mean Ach, Math&ELA, EB est, CS  |\n",
    "| Educ_mn_coh_eb_se  | School SE of Cohort Slope of Mean Ach, Math&ELA, EB est, CS |\n",
    "| Educ_mn_mth_eb_se  | School SE of Math-ELA Diff in Mean Ach, Math&ELA, EB est, CS  |\n",
    "| Educ_mn_avg_ol_se | School SE of Mean Ach, Math&ELA, OLS est, CS  |\n",
    "| Educ_mn_grd_ol_se | School SE of Grade Slope of Mean Ach, Math&ELA, OLS est, CS  |\n",
    "| Educ_mn_coh_ol_se | School SE of Cohort Slope of Mean Ach, Math&ELA, OLS est, CS  |\n",
    "| Educ_mn_mth_ol_se | School SE of Math-ELA Diff in Mean Ach, Math&ELA, OLS est, CS  |"
   ]
  }
 ],
 "metadata": {
  "colab": {
   "collapsed_sections": [],
   "name": "Edu_Documentation.ipynb",
   "provenance": []
  },
  "kernelspec": {
   "display_name": "Python 3",
   "language": "python",
   "name": "python3"
  },
  "language_info": {
   "codemirror_mode": {
    "name": "ipython",
    "version": 3
   },
   "file_extension": ".py",
   "mimetype": "text/x-python",
   "name": "python",
   "nbconvert_exporter": "python",
   "pygments_lexer": "ipython3",
   "version": "3.8.3"
  }
 },
 "nbformat": 4,
 "nbformat_minor": 1
}
