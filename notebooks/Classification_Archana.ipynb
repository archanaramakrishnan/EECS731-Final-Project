{
 "cells": [
  {
   "cell_type": "markdown",
   "metadata": {},
   "source": [
    "## Introduction"
   ]
  },
  {
   "cell_type": "markdown",
   "metadata": {},
   "source": [
    "From the dataset [Food Deserts in the USA](https://www.kaggle.com/tcrammond/food-access-and-food-deserts?select=food_access_research_atlas.csv) dataset on Kaggles: \"the USDA defines living in a food desert as:\n",
    "\n",
    "living more than one mile from a supermarket in urban/suburban areas, and more than 10 miles from a supermarket in rural areas\""
   ]
  },
  {
   "cell_type": "markdown",
   "metadata": {},
   "source": [
    "## Goal\n"
   ]
  },
  {
   "cell_type": "markdown",
   "metadata": {},
   "source": [
    "Our classification problem will identify if a county is a food desert or not. We will predict this using demographic information, academic performance, income etc. To test our results, we will use labels that contain flags to indicate if a county is a food desert."
   ]
  },
  {
   "cell_type": "code",
   "execution_count": 76,
   "metadata": {},
   "outputs": [],
   "source": [
    "import pandas as pd\n",
    "# pd.set_option('display.max_colwidth', 0) #text reflow in columns"
   ]
  },
  {
   "cell_type": "markdown",
   "metadata": {},
   "source": [
    "## Dataset"
   ]
  },
  {
   "cell_type": "code",
   "execution_count": 77,
   "metadata": {
    "scrolled": false
   },
   "outputs": [
    {
     "data": {
      "text/html": [
       "<div>\n",
       "<style scoped>\n",
       "    .dataframe tbody tr th:only-of-type {\n",
       "        vertical-align: middle;\n",
       "    }\n",
       "\n",
       "    .dataframe tbody tr th {\n",
       "        vertical-align: top;\n",
       "    }\n",
       "\n",
       "    .dataframe thead th {\n",
       "        text-align: right;\n",
       "    }\n",
       "</style>\n",
       "<table border=\"1\" class=\"dataframe\">\n",
       "  <thead>\n",
       "    <tr style=\"text-align: right;\">\n",
       "      <th></th>\n",
       "      <th>Educ_countyid</th>\n",
       "      <th>Educ_fips</th>\n",
       "      <th>Educ_gap_est</th>\n",
       "      <th>Educ_tot_asmts</th>\n",
       "      <th>Educ_cellcount</th>\n",
       "      <th>Educ_mn_asmts</th>\n",
       "      <th>Educ_mn_avg_ol</th>\n",
       "      <th>Educ_mn_grd_ol</th>\n",
       "      <th>Educ_mn_coh_ol</th>\n",
       "      <th>Educ_mn_mth_ol</th>\n",
       "      <th>...</th>\n",
       "      <th>Food_TractBlack</th>\n",
       "      <th>Food_TractAsian</th>\n",
       "      <th>Food_TractNHOPI</th>\n",
       "      <th>Food_TractAIAN</th>\n",
       "      <th>Food_TractOMultir</th>\n",
       "      <th>Food_TractHispanic</th>\n",
       "      <th>Food_TractHUNV</th>\n",
       "      <th>Food_TractSNAP</th>\n",
       "      <th>County</th>\n",
       "      <th>State</th>\n",
       "    </tr>\n",
       "  </thead>\n",
       "  <tbody>\n",
       "    <tr>\n",
       "      <th>0</th>\n",
       "      <td>1001</td>\n",
       "      <td>1.0</td>\n",
       "      <td>0.0</td>\n",
       "      <td>72864.0</td>\n",
       "      <td>96.0</td>\n",
       "      <td>759.000000</td>\n",
       "      <td>5.636815</td>\n",
       "      <td>1.048619</td>\n",
       "      <td>-0.092830</td>\n",
       "      <td>-0.435624</td>\n",
       "      <td>...</td>\n",
       "      <td>803.583333</td>\n",
       "      <td>39.500000</td>\n",
       "      <td>2.666667</td>\n",
       "      <td>19.333333</td>\n",
       "      <td>111.250000</td>\n",
       "      <td>109.166667</td>\n",
       "      <td>90.083333</td>\n",
       "      <td>223.500000</td>\n",
       "      <td>Autauga</td>\n",
       "      <td>AL</td>\n",
       "    </tr>\n",
       "    <tr>\n",
       "      <th>1</th>\n",
       "      <td>1003</td>\n",
       "      <td>1.0</td>\n",
       "      <td>0.0</td>\n",
       "      <td>213214.0</td>\n",
       "      <td>96.0</td>\n",
       "      <td>2220.979167</td>\n",
       "      <td>5.428993</td>\n",
       "      <td>0.832481</td>\n",
       "      <td>-0.051916</td>\n",
       "      <td>-0.611446</td>\n",
       "      <td>...</td>\n",
       "      <td>551.774194</td>\n",
       "      <td>43.483871</td>\n",
       "      <td>2.870968</td>\n",
       "      <td>39.225806</td>\n",
       "      <td>204.967742</td>\n",
       "      <td>257.806452</td>\n",
       "      <td>72.322581</td>\n",
       "      <td>208.741935</td>\n",
       "      <td>Baldwin</td>\n",
       "      <td>AL</td>\n",
       "    </tr>\n",
       "    <tr>\n",
       "      <th>2</th>\n",
       "      <td>1005</td>\n",
       "      <td>1.0</td>\n",
       "      <td>0.0</td>\n",
       "      <td>26521.0</td>\n",
       "      <td>96.0</td>\n",
       "      <td>276.260417</td>\n",
       "      <td>3.692509</td>\n",
       "      <td>0.956793</td>\n",
       "      <td>0.129474</td>\n",
       "      <td>-0.743482</td>\n",
       "      <td>...</td>\n",
       "      <td>1430.555556</td>\n",
       "      <td>11.888889</td>\n",
       "      <td>3.222222</td>\n",
       "      <td>12.666667</td>\n",
       "      <td>128.000000</td>\n",
       "      <td>154.111111</td>\n",
       "      <td>89.111111</td>\n",
       "      <td>233.000000</td>\n",
       "      <td>Barbour</td>\n",
       "      <td>AL</td>\n",
       "    </tr>\n",
       "    <tr>\n",
       "      <th>3</th>\n",
       "      <td>1007</td>\n",
       "      <td>1.0</td>\n",
       "      <td>0.0</td>\n",
       "      <td>25678.0</td>\n",
       "      <td>96.0</td>\n",
       "      <td>267.479167</td>\n",
       "      <td>4.235791</td>\n",
       "      <td>0.996612</td>\n",
       "      <td>0.021188</td>\n",
       "      <td>-0.888118</td>\n",
       "      <td>...</td>\n",
       "      <td>1261.750000</td>\n",
       "      <td>5.500000</td>\n",
       "      <td>3.250000</td>\n",
       "      <td>16.000000</td>\n",
       "      <td>97.000000</td>\n",
       "      <td>101.500000</td>\n",
       "      <td>74.750000</td>\n",
       "      <td>281.250000</td>\n",
       "      <td>Bibb</td>\n",
       "      <td>AL</td>\n",
       "    </tr>\n",
       "    <tr>\n",
       "      <th>4</th>\n",
       "      <td>1009</td>\n",
       "      <td>1.0</td>\n",
       "      <td>0.0</td>\n",
       "      <td>71940.0</td>\n",
       "      <td>96.0</td>\n",
       "      <td>749.375000</td>\n",
       "      <td>4.689641</td>\n",
       "      <td>0.866955</td>\n",
       "      <td>0.091370</td>\n",
       "      <td>-1.011810</td>\n",
       "      <td>...</td>\n",
       "      <td>84.555556</td>\n",
       "      <td>13.000000</td>\n",
       "      <td>4.222222</td>\n",
       "      <td>34.111111</td>\n",
       "      <td>336.777778</td>\n",
       "      <td>514.000000</td>\n",
       "      <td>91.444444</td>\n",
       "      <td>322.222222</td>\n",
       "      <td>Blount</td>\n",
       "      <td>AL</td>\n",
       "    </tr>\n",
       "  </tbody>\n",
       "</table>\n",
       "<p>5 rows × 169 columns</p>\n",
       "</div>"
      ],
      "text/plain": [
       "   Educ_countyid  Educ_fips  Educ_gap_est  Educ_tot_asmts  Educ_cellcount  \\\n",
       "0  1001           1.0        0.0           72864.0         96.0             \n",
       "1  1003           1.0        0.0           213214.0        96.0             \n",
       "2  1005           1.0        0.0           26521.0         96.0             \n",
       "3  1007           1.0        0.0           25678.0         96.0             \n",
       "4  1009           1.0        0.0           71940.0         96.0             \n",
       "\n",
       "   Educ_mn_asmts  Educ_mn_avg_ol  Educ_mn_grd_ol  Educ_mn_coh_ol  \\\n",
       "0  759.000000     5.636815        1.048619       -0.092830         \n",
       "1  2220.979167    5.428993        0.832481       -0.051916         \n",
       "2  276.260417     3.692509        0.956793        0.129474         \n",
       "3  267.479167     4.235791        0.996612        0.021188         \n",
       "4  749.375000     4.689641        0.866955        0.091370         \n",
       "\n",
       "   Educ_mn_mth_ol  ...  Food_TractBlack  Food_TractAsian  Food_TractNHOPI  \\\n",
       "0 -0.435624        ...  803.583333       39.500000        2.666667          \n",
       "1 -0.611446        ...  551.774194       43.483871        2.870968          \n",
       "2 -0.743482        ...  1430.555556      11.888889        3.222222          \n",
       "3 -0.888118        ...  1261.750000      5.500000         3.250000          \n",
       "4 -1.011810        ...  84.555556        13.000000        4.222222          \n",
       "\n",
       "   Food_TractAIAN  Food_TractOMultir  Food_TractHispanic  Food_TractHUNV  \\\n",
       "0  19.333333       111.250000         109.166667          90.083333        \n",
       "1  39.225806       204.967742         257.806452          72.322581        \n",
       "2  12.666667       128.000000         154.111111          89.111111        \n",
       "3  16.000000       97.000000          101.500000          74.750000        \n",
       "4  34.111111       336.777778         514.000000          91.444444        \n",
       "\n",
       "   Food_TractSNAP   County  State  \n",
       "0  223.500000      Autauga  AL     \n",
       "1  208.741935      Baldwin  AL     \n",
       "2  233.000000      Barbour  AL     \n",
       "3  281.250000      Bibb     AL     \n",
       "4  322.222222      Blount   AL     \n",
       "\n",
       "[5 rows x 169 columns]"
      ]
     },
     "execution_count": 77,
     "metadata": {},
     "output_type": "execute_result"
    }
   ],
   "source": [
    "combined_df = pd.read_csv(\"../data/combined_data.csv\")\n",
    "combined_df.head()"
   ]
  },
  {
   "cell_type": "markdown",
   "metadata": {},
   "source": [
    "## Identifying labels"
   ]
  },
  {
   "cell_type": "markdown",
   "metadata": {},
   "source": [
    "There are lots of columns in our dataset. Let's find the ones that we will use as labels:"
   ]
  },
  {
   "cell_type": "code",
   "execution_count": 78,
   "metadata": {},
   "outputs": [],
   "source": [
    "food_doc = pd.read_csv(\"../data/food_access_variable_lookup.csv\")"
   ]
  },
  {
   "cell_type": "code",
   "execution_count": 79,
   "metadata": {},
   "outputs": [
    {
     "data": {
      "text/html": [
       "<div>\n",
       "<style scoped>\n",
       "    .dataframe tbody tr th:only-of-type {\n",
       "        vertical-align: middle;\n",
       "    }\n",
       "\n",
       "    .dataframe tbody tr th {\n",
       "        vertical-align: top;\n",
       "    }\n",
       "\n",
       "    .dataframe thead th {\n",
       "        text-align: right;\n",
       "    }\n",
       "</style>\n",
       "<table border=\"1\" class=\"dataframe\">\n",
       "  <thead>\n",
       "    <tr style=\"text-align: right;\">\n",
       "      <th></th>\n",
       "      <th>Field</th>\n",
       "      <th>LongName</th>\n",
       "      <th>Description</th>\n",
       "    </tr>\n",
       "  </thead>\n",
       "  <tbody>\n",
       "    <tr>\n",
       "      <th>9</th>\n",
       "      <td>LILATracts_1And10</td>\n",
       "      <td>Low income and low access tract measured at 1 mile for urban areas and 10 miles for rural areas</td>\n",
       "      <td>Flag for food desert when considering low accessibilty at 1 and 10 miles</td>\n",
       "    </tr>\n",
       "    <tr>\n",
       "      <th>10</th>\n",
       "      <td>LILATracts_halfAnd10</td>\n",
       "      <td>Low income and low access tract measured at 1/2 mile for urban areas and 10 miles for rural areas</td>\n",
       "      <td>Flag for food desert when considering low accessibilty at 1/2 and 10 miles</td>\n",
       "    </tr>\n",
       "    <tr>\n",
       "      <th>11</th>\n",
       "      <td>LILATracts_1And20</td>\n",
       "      <td>Low income and low access tract measured at 1 mile for urban areas and 20 miles for rural areas</td>\n",
       "      <td>Flag for food desert when considering low accessibilty at 1 and 20 miles</td>\n",
       "    </tr>\n",
       "    <tr>\n",
       "      <th>12</th>\n",
       "      <td>LILATracts_Vehicle</td>\n",
       "      <td>Low income and low access tract using vehicle access or low income and low access tract measured at 20 miles</td>\n",
       "      <td>Flag for food desert when considering vehicle access or at 20 miles</td>\n",
       "    </tr>\n",
       "  </tbody>\n",
       "</table>\n",
       "</div>"
      ],
      "text/plain": [
       "                   Field  \\\n",
       "9   LILATracts_1And10      \n",
       "10  LILATracts_halfAnd10   \n",
       "11  LILATracts_1And20      \n",
       "12  LILATracts_Vehicle     \n",
       "\n",
       "                                                                                                        LongName  \\\n",
       "9   Low income and low access tract measured at 1 mile for urban areas and 10 miles for rural areas                \n",
       "10  Low income and low access tract measured at 1/2 mile for urban areas and 10 miles for rural areas              \n",
       "11  Low income and low access tract measured at 1 mile for urban areas and 20 miles for rural areas                \n",
       "12  Low income and low access tract using vehicle access or low income and low access tract measured at 20 miles   \n",
       "\n",
       "                                                                   Description  \n",
       "9   Flag for food desert when considering low accessibilty at 1 and 10 miles    \n",
       "10  Flag for food desert when considering low accessibilty at 1/2 and 10 miles  \n",
       "11  Flag for food desert when considering low accessibilty at 1 and 20 miles    \n",
       "12  Flag for food desert when considering vehicle access or at 20 miles         "
      ]
     },
     "execution_count": 79,
     "metadata": {},
     "output_type": "execute_result"
    }
   ],
   "source": [
    "desert_flags_labels = food_doc[food_doc['Description'].str.contains('food desert')]\n",
    "desert_flags_labels"
   ]
  },
  {
   "cell_type": "code",
   "execution_count": null,
   "metadata": {},
   "outputs": [],
   "source": [
    "We ide"
   ]
  },
  {
   "cell_type": "code",
   "execution_count": 80,
   "metadata": {},
   "outputs": [
    {
     "name": "stdout",
     "output_type": "stream",
     "text": [
      "['Food_LILATracts_1And10', 'Food_LILATracts_halfAnd10', 'Food_LILATracts_1And20', 'Food_LILATracts_Vehicle']\n"
     ]
    }
   ],
   "source": [
    "desert_flags_label_list = desert_flags_labels['Field'].tolist()\n",
    "desert_flags_label_list = list(map(lambda label: 'Food_' + label, desert_flags_label_list) )\n",
    "print(desert_flags_label_list)"
   ]
  },
  {
   "cell_type": "markdown",
   "metadata": {},
   "source": [
    "### Average of Boolean\n",
    "From 0-Data_Exploration_And_Cleaning.ipynb : For boolean type variables, the resulting average will represent a percentage (in decimal form) of how many tracts in that county had a value of 1 before combining."
   ]
  },
  {
   "cell_type": "code",
   "execution_count": 81,
   "metadata": {
    "scrolled": true
   },
   "outputs": [
    {
     "data": {
      "text/html": [
       "<div>\n",
       "<style scoped>\n",
       "    .dataframe tbody tr th:only-of-type {\n",
       "        vertical-align: middle;\n",
       "    }\n",
       "\n",
       "    .dataframe tbody tr th {\n",
       "        vertical-align: top;\n",
       "    }\n",
       "\n",
       "    .dataframe thead th {\n",
       "        text-align: right;\n",
       "    }\n",
       "</style>\n",
       "<table border=\"1\" class=\"dataframe\">\n",
       "  <thead>\n",
       "    <tr style=\"text-align: right;\">\n",
       "      <th></th>\n",
       "      <th>Food_LILATracts_1And10</th>\n",
       "      <th>Food_LILATracts_halfAnd10</th>\n",
       "      <th>Food_LILATracts_1And20</th>\n",
       "      <th>Food_LILATracts_Vehicle</th>\n",
       "    </tr>\n",
       "  </thead>\n",
       "  <tbody>\n",
       "    <tr>\n",
       "      <th>0</th>\n",
       "      <td>0.166667</td>\n",
       "      <td>0.166667</td>\n",
       "      <td>0.083333</td>\n",
       "      <td>0.166667</td>\n",
       "    </tr>\n",
       "    <tr>\n",
       "      <th>1</th>\n",
       "      <td>0.096774</td>\n",
       "      <td>0.096774</td>\n",
       "      <td>0.096774</td>\n",
       "      <td>0.064516</td>\n",
       "    </tr>\n",
       "    <tr>\n",
       "      <th>2</th>\n",
       "      <td>0.333333</td>\n",
       "      <td>0.333333</td>\n",
       "      <td>0.111111</td>\n",
       "      <td>0.222222</td>\n",
       "    </tr>\n",
       "    <tr>\n",
       "      <th>3</th>\n",
       "      <td>0.000000</td>\n",
       "      <td>0.000000</td>\n",
       "      <td>0.000000</td>\n",
       "      <td>0.250000</td>\n",
       "    </tr>\n",
       "    <tr>\n",
       "      <th>4</th>\n",
       "      <td>0.000000</td>\n",
       "      <td>0.000000</td>\n",
       "      <td>0.000000</td>\n",
       "      <td>0.222222</td>\n",
       "    </tr>\n",
       "  </tbody>\n",
       "</table>\n",
       "</div>"
      ],
      "text/plain": [
       "   Food_LILATracts_1And10  Food_LILATracts_halfAnd10  Food_LILATracts_1And20  \\\n",
       "0  0.166667                0.166667                   0.083333                 \n",
       "1  0.096774                0.096774                   0.096774                 \n",
       "2  0.333333                0.333333                   0.111111                 \n",
       "3  0.000000                0.000000                   0.000000                 \n",
       "4  0.000000                0.000000                   0.000000                 \n",
       "\n",
       "   Food_LILATracts_Vehicle  \n",
       "0  0.166667                 \n",
       "1  0.064516                 \n",
       "2  0.222222                 \n",
       "3  0.250000                 \n",
       "4  0.222222                 "
      ]
     },
     "execution_count": 81,
     "metadata": {},
     "output_type": "execute_result"
    }
   ],
   "source": [
    "desert_flags = combined_df[desert_flags_label_list]\n",
    "desert_flags.head()"
   ]
  },
  {
   "cell_type": "markdown",
   "metadata": {},
   "source": [
    "### Indicators of Food Access\n",
    "From the documentation, we know the following:\n",
    "- Accessibility to sources of healthy food, as measured by distance to a store or by the number of stores in an area.\n",
    "- Individual-level resources that may affect accessibility, such as family income or vehicle availability.\n",
    "- Neighborhood-level indicators of resources, such as the average income of the neighborhood and the availability of public transportation."
   ]
  },
  {
   "cell_type": "code",
   "execution_count": 82,
   "metadata": {},
   "outputs": [
    {
     "data": {
      "text/plain": [
       "array([[<matplotlib.axes._subplots.AxesSubplot object at 0x11fb891f0>,\n",
       "        <matplotlib.axes._subplots.AxesSubplot object at 0x1099e19d0>],\n",
       "       [<matplotlib.axes._subplots.AxesSubplot object at 0x109a0be50>,\n",
       "        <matplotlib.axes._subplots.AxesSubplot object at 0x11bab82e0>]],\n",
       "      dtype=object)"
      ]
     },
     "execution_count": 82,
     "metadata": {},
     "output_type": "execute_result"
    },
    {
     "data": {
      "image/png": "[encoded data removed]",
      "text/plain": [
       "<Figure size 432x288 with 4 Axes>"
      ]
     },
     "metadata": {
      "needs_background": "light"
     },
     "output_type": "display_data"
    }
   ],
   "source": [
    "desert_flags.hist()"
   ]
  }
 ],
 "metadata": {
  "kernelspec": {
   "display_name": "Python 3",
   "language": "python",
   "name": "python3"
  },
  "language_info": {
   "codemirror_mode": {
    "name": "ipython",
    "version": 3
   },
   "file_extension": ".py",
   "mimetype": "text/x-python",
   "name": "python",
   "nbconvert_exporter": "python",
   "pygments_lexer": "ipython3",
   "version": "3.8.3"
  }
 },
 "nbformat": 4,
 "nbformat_minor": 4
}
