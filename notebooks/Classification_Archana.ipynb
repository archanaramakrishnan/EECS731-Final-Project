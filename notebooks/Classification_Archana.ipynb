{
 "cells": [
  {
   "cell_type": "markdown",
   "metadata": {},
   "source": [
    "## Introduction"
   ]
  },
  {
   "cell_type": "markdown",
   "metadata": {},
   "source": [
    "From the dataset [Food Deserts in the USA](https://www.kaggle.com/tcrammond/food-access-and-food-deserts?select=food_access_research_atlas.csv) dataset on Kaggles: \"the USDA defines living in a food desert as:\n",
    "\n",
    "living more than one mile from a supermarket in urban/suburban areas, and more than 10 miles from a supermarket in rural areas\""
   ]
  },
  {
   "cell_type": "markdown",
   "metadata": {},
   "source": [
    "## Goal\n"
   ]
  },
  {
   "cell_type": "markdown",
   "metadata": {},
   "source": [
    "Our classification problem will identify if a county is a food desert or not. We will predict this using demographic information, academic performance, income etc. To test our results, we will use labels that contain flags to indicate if a county is a food desert."
   ]
  },
  {
   "cell_type": "code",
   "execution_count": 251,
   "metadata": {},
   "outputs": [],
   "source": [
    "import pandas as pd\n",
    "from sklearn.model_selection import train_test_split\n",
    "from sklearn.preprocessing import StandardScaler\n",
    "from sklearn.decomposition import PCA\n",
    "from sklearn import tree #decision tree\n",
    "# pd.set_option('display.max_colwidth', 0) #text reflow in columns"
   ]
  },
  {
   "cell_type": "markdown",
   "metadata": {},
   "source": [
    "## Dataset"
   ]
  },
  {
   "cell_type": "code",
   "execution_count": 252,
   "metadata": {
    "scrolled": false
   },
   "outputs": [
    {
     "data": {
      "text/html": [
       "<div>\n",
       "<style scoped>\n",
       "    .dataframe tbody tr th:only-of-type {\n",
       "        vertical-align: middle;\n",
       "    }\n",
       "\n",
       "    .dataframe tbody tr th {\n",
       "        vertical-align: top;\n",
       "    }\n",
       "\n",
       "    .dataframe thead th {\n",
       "        text-align: right;\n",
       "    }\n",
       "</style>\n",
       "<table border=\"1\" class=\"dataframe\">\n",
       "  <thead>\n",
       "    <tr style=\"text-align: right;\">\n",
       "      <th></th>\n",
       "      <th>Educ_countyid</th>\n",
       "      <th>Educ_fips</th>\n",
       "      <th>Educ_gap_est</th>\n",
       "      <th>Educ_tot_asmts</th>\n",
       "      <th>Educ_cellcount</th>\n",
       "      <th>Educ_mn_asmts</th>\n",
       "      <th>Educ_mn_avg_ol</th>\n",
       "      <th>Educ_mn_grd_ol</th>\n",
       "      <th>Educ_mn_coh_ol</th>\n",
       "      <th>Educ_mn_mth_ol</th>\n",
       "      <th>...</th>\n",
       "      <th>Food_TractBlack</th>\n",
       "      <th>Food_TractAsian</th>\n",
       "      <th>Food_TractNHOPI</th>\n",
       "      <th>Food_TractAIAN</th>\n",
       "      <th>Food_TractOMultir</th>\n",
       "      <th>Food_TractHispanic</th>\n",
       "      <th>Food_TractHUNV</th>\n",
       "      <th>Food_TractSNAP</th>\n",
       "      <th>County</th>\n",
       "      <th>State</th>\n",
       "    </tr>\n",
       "  </thead>\n",
       "  <tbody>\n",
       "    <tr>\n",
       "      <th>0</th>\n",
       "      <td>1001</td>\n",
       "      <td>1.0</td>\n",
       "      <td>0.0</td>\n",
       "      <td>72864.0</td>\n",
       "      <td>96.0</td>\n",
       "      <td>759.000000</td>\n",
       "      <td>5.636815</td>\n",
       "      <td>1.048619</td>\n",
       "      <td>-0.092830</td>\n",
       "      <td>-0.435624</td>\n",
       "      <td>...</td>\n",
       "      <td>803.583333</td>\n",
       "      <td>39.500000</td>\n",
       "      <td>2.666667</td>\n",
       "      <td>19.333333</td>\n",
       "      <td>111.250000</td>\n",
       "      <td>109.166667</td>\n",
       "      <td>90.083333</td>\n",
       "      <td>223.500000</td>\n",
       "      <td>Autauga</td>\n",
       "      <td>AL</td>\n",
       "    </tr>\n",
       "    <tr>\n",
       "      <th>1</th>\n",
       "      <td>1003</td>\n",
       "      <td>1.0</td>\n",
       "      <td>0.0</td>\n",
       "      <td>213214.0</td>\n",
       "      <td>96.0</td>\n",
       "      <td>2220.979167</td>\n",
       "      <td>5.428993</td>\n",
       "      <td>0.832481</td>\n",
       "      <td>-0.051916</td>\n",
       "      <td>-0.611446</td>\n",
       "      <td>...</td>\n",
       "      <td>551.774194</td>\n",
       "      <td>43.483871</td>\n",
       "      <td>2.870968</td>\n",
       "      <td>39.225806</td>\n",
       "      <td>204.967742</td>\n",
       "      <td>257.806452</td>\n",
       "      <td>72.322581</td>\n",
       "      <td>208.741935</td>\n",
       "      <td>Baldwin</td>\n",
       "      <td>AL</td>\n",
       "    </tr>\n",
       "    <tr>\n",
       "      <th>2</th>\n",
       "      <td>1005</td>\n",
       "      <td>1.0</td>\n",
       "      <td>0.0</td>\n",
       "      <td>26521.0</td>\n",
       "      <td>96.0</td>\n",
       "      <td>276.260417</td>\n",
       "      <td>3.692509</td>\n",
       "      <td>0.956793</td>\n",
       "      <td>0.129474</td>\n",
       "      <td>-0.743482</td>\n",
       "      <td>...</td>\n",
       "      <td>1430.555556</td>\n",
       "      <td>11.888889</td>\n",
       "      <td>3.222222</td>\n",
       "      <td>12.666667</td>\n",
       "      <td>128.000000</td>\n",
       "      <td>154.111111</td>\n",
       "      <td>89.111111</td>\n",
       "      <td>233.000000</td>\n",
       "      <td>Barbour</td>\n",
       "      <td>AL</td>\n",
       "    </tr>\n",
       "    <tr>\n",
       "      <th>3</th>\n",
       "      <td>1007</td>\n",
       "      <td>1.0</td>\n",
       "      <td>0.0</td>\n",
       "      <td>25678.0</td>\n",
       "      <td>96.0</td>\n",
       "      <td>267.479167</td>\n",
       "      <td>4.235791</td>\n",
       "      <td>0.996612</td>\n",
       "      <td>0.021188</td>\n",
       "      <td>-0.888118</td>\n",
       "      <td>...</td>\n",
       "      <td>1261.750000</td>\n",
       "      <td>5.500000</td>\n",
       "      <td>3.250000</td>\n",
       "      <td>16.000000</td>\n",
       "      <td>97.000000</td>\n",
       "      <td>101.500000</td>\n",
       "      <td>74.750000</td>\n",
       "      <td>281.250000</td>\n",
       "      <td>Bibb</td>\n",
       "      <td>AL</td>\n",
       "    </tr>\n",
       "    <tr>\n",
       "      <th>4</th>\n",
       "      <td>1009</td>\n",
       "      <td>1.0</td>\n",
       "      <td>0.0</td>\n",
       "      <td>71940.0</td>\n",
       "      <td>96.0</td>\n",
       "      <td>749.375000</td>\n",
       "      <td>4.689641</td>\n",
       "      <td>0.866955</td>\n",
       "      <td>0.091370</td>\n",
       "      <td>-1.011810</td>\n",
       "      <td>...</td>\n",
       "      <td>84.555556</td>\n",
       "      <td>13.000000</td>\n",
       "      <td>4.222222</td>\n",
       "      <td>34.111111</td>\n",
       "      <td>336.777778</td>\n",
       "      <td>514.000000</td>\n",
       "      <td>91.444444</td>\n",
       "      <td>322.222222</td>\n",
       "      <td>Blount</td>\n",
       "      <td>AL</td>\n",
       "    </tr>\n",
       "  </tbody>\n",
       "</table>\n",
       "<p>5 rows × 169 columns</p>\n",
       "</div>"
      ],
      "text/plain": [
       "   Educ_countyid  Educ_fips  Educ_gap_est  Educ_tot_asmts  Educ_cellcount  \\\n",
       "0           1001        1.0           0.0         72864.0            96.0   \n",
       "1           1003        1.0           0.0        213214.0            96.0   \n",
       "2           1005        1.0           0.0         26521.0            96.0   \n",
       "3           1007        1.0           0.0         25678.0            96.0   \n",
       "4           1009        1.0           0.0         71940.0            96.0   \n",
       "\n",
       "   Educ_mn_asmts  Educ_mn_avg_ol  Educ_mn_grd_ol  Educ_mn_coh_ol  \\\n",
       "0     759.000000        5.636815        1.048619       -0.092830   \n",
       "1    2220.979167        5.428993        0.832481       -0.051916   \n",
       "2     276.260417        3.692509        0.956793        0.129474   \n",
       "3     267.479167        4.235791        0.996612        0.021188   \n",
       "4     749.375000        4.689641        0.866955        0.091370   \n",
       "\n",
       "   Educ_mn_mth_ol  ...  Food_TractBlack  Food_TractAsian  Food_TractNHOPI  \\\n",
       "0       -0.435624  ...       803.583333        39.500000         2.666667   \n",
       "1       -0.611446  ...       551.774194        43.483871         2.870968   \n",
       "2       -0.743482  ...      1430.555556        11.888889         3.222222   \n",
       "3       -0.888118  ...      1261.750000         5.500000         3.250000   \n",
       "4       -1.011810  ...        84.555556        13.000000         4.222222   \n",
       "\n",
       "   Food_TractAIAN  Food_TractOMultir  Food_TractHispanic  Food_TractHUNV  \\\n",
       "0       19.333333         111.250000          109.166667       90.083333   \n",
       "1       39.225806         204.967742          257.806452       72.322581   \n",
       "2       12.666667         128.000000          154.111111       89.111111   \n",
       "3       16.000000          97.000000          101.500000       74.750000   \n",
       "4       34.111111         336.777778          514.000000       91.444444   \n",
       "\n",
       "   Food_TractSNAP   County  State  \n",
       "0      223.500000  Autauga     AL  \n",
       "1      208.741935  Baldwin     AL  \n",
       "2      233.000000  Barbour     AL  \n",
       "3      281.250000     Bibb     AL  \n",
       "4      322.222222   Blount     AL  \n",
       "\n",
       "[5 rows x 169 columns]"
      ]
     },
     "execution_count": 252,
     "metadata": {},
     "output_type": "execute_result"
    }
   ],
   "source": [
    "combined_df = pd.read_csv(\"../data/combined_data.csv\")\n",
    "combined_df.head()"
   ]
  },
  {
   "cell_type": "markdown",
   "metadata": {},
   "source": [
    "## Identifying labels"
   ]
  },
  {
   "cell_type": "markdown",
   "metadata": {},
   "source": [
    "There are lots of columns in our dataset. Let's find the ones that we will use as labels:"
   ]
  },
  {
   "cell_type": "code",
   "execution_count": 253,
   "metadata": {},
   "outputs": [],
   "source": [
    "food_doc = pd.read_csv(\"../data/food_access_variable_lookup.csv\")"
   ]
  },
  {
   "cell_type": "code",
   "execution_count": 254,
   "metadata": {},
   "outputs": [
    {
     "data": {
      "text/html": [
       "<div>\n",
       "<style scoped>\n",
       "    .dataframe tbody tr th:only-of-type {\n",
       "        vertical-align: middle;\n",
       "    }\n",
       "\n",
       "    .dataframe tbody tr th {\n",
       "        vertical-align: top;\n",
       "    }\n",
       "\n",
       "    .dataframe thead th {\n",
       "        text-align: right;\n",
       "    }\n",
       "</style>\n",
       "<table border=\"1\" class=\"dataframe\">\n",
       "  <thead>\n",
       "    <tr style=\"text-align: right;\">\n",
       "      <th></th>\n",
       "      <th>Field</th>\n",
       "      <th>LongName</th>\n",
       "      <th>Description</th>\n",
       "    </tr>\n",
       "  </thead>\n",
       "  <tbody>\n",
       "    <tr>\n",
       "      <th>9</th>\n",
       "      <td>LILATracts_1And10</td>\n",
       "      <td>Low income and low access tract measured at 1 ...</td>\n",
       "      <td>Flag for food desert when considering low acce...</td>\n",
       "    </tr>\n",
       "    <tr>\n",
       "      <th>10</th>\n",
       "      <td>LILATracts_halfAnd10</td>\n",
       "      <td>Low income and low access tract measured at 1/...</td>\n",
       "      <td>Flag for food desert when considering low acce...</td>\n",
       "    </tr>\n",
       "    <tr>\n",
       "      <th>11</th>\n",
       "      <td>LILATracts_1And20</td>\n",
       "      <td>Low income and low access tract measured at 1 ...</td>\n",
       "      <td>Flag for food desert when considering low acce...</td>\n",
       "    </tr>\n",
       "    <tr>\n",
       "      <th>12</th>\n",
       "      <td>LILATracts_Vehicle</td>\n",
       "      <td>Low income and low access tract using vehicle ...</td>\n",
       "      <td>Flag for food desert when considering vehicle ...</td>\n",
       "    </tr>\n",
       "  </tbody>\n",
       "</table>\n",
       "</div>"
      ],
      "text/plain": [
       "                   Field                                           LongName  \\\n",
       "9      LILATracts_1And10  Low income and low access tract measured at 1 ...   \n",
       "10  LILATracts_halfAnd10  Low income and low access tract measured at 1/...   \n",
       "11     LILATracts_1And20  Low income and low access tract measured at 1 ...   \n",
       "12    LILATracts_Vehicle  Low income and low access tract using vehicle ...   \n",
       "\n",
       "                                          Description  \n",
       "9   Flag for food desert when considering low acce...  \n",
       "10  Flag for food desert when considering low acce...  \n",
       "11  Flag for food desert when considering low acce...  \n",
       "12  Flag for food desert when considering vehicle ...  "
      ]
     },
     "execution_count": 254,
     "metadata": {},
     "output_type": "execute_result"
    }
   ],
   "source": [
    "desert_flags_labels = food_doc[food_doc['Description'].str.contains('food desert')]\n",
    "desert_flags_labels"
   ]
  },
  {
   "cell_type": "markdown",
   "metadata": {},
   "source": [
    "We idetified the following as our labels:"
   ]
  },
  {
   "cell_type": "code",
   "execution_count": 255,
   "metadata": {},
   "outputs": [
    {
     "name": "stdout",
     "output_type": "stream",
     "text": [
      "['Food_LILATracts_1And10', 'Food_LILATracts_halfAnd10', 'Food_LILATracts_1And20', 'Food_LILATracts_Vehicle']\n"
     ]
    }
   ],
   "source": [
    "desert_flags_label_list = desert_flags_labels['Field'].tolist()\n",
    "desert_flags_label_list = list(map(lambda label: 'Food_' + label, desert_flags_label_list) )\n",
    "print(desert_flags_label_list)"
   ]
  },
  {
   "cell_type": "markdown",
   "metadata": {},
   "source": [
    "### Average of Boolean Values\n",
    "From 0-Data_Exploration_And_Cleaning.ipynb : For boolean type variables, the resulting average will represent a percentage (in decimal form) of how many tracts in that county had a value of 1 before combining."
   ]
  },
  {
   "cell_type": "code",
   "execution_count": 256,
   "metadata": {
    "scrolled": false
   },
   "outputs": [
    {
     "data": {
      "text/html": [
       "<div>\n",
       "<style scoped>\n",
       "    .dataframe tbody tr th:only-of-type {\n",
       "        vertical-align: middle;\n",
       "    }\n",
       "\n",
       "    .dataframe tbody tr th {\n",
       "        vertical-align: top;\n",
       "    }\n",
       "\n",
       "    .dataframe thead th {\n",
       "        text-align: right;\n",
       "    }\n",
       "</style>\n",
       "<table border=\"1\" class=\"dataframe\">\n",
       "  <thead>\n",
       "    <tr style=\"text-align: right;\">\n",
       "      <th></th>\n",
       "      <th>Food_LILATracts_1And10</th>\n",
       "      <th>Food_LILATracts_halfAnd10</th>\n",
       "      <th>Food_LILATracts_1And20</th>\n",
       "      <th>Food_LILATracts_Vehicle</th>\n",
       "    </tr>\n",
       "  </thead>\n",
       "  <tbody>\n",
       "    <tr>\n",
       "      <th>0</th>\n",
       "      <td>0.166667</td>\n",
       "      <td>0.166667</td>\n",
       "      <td>0.083333</td>\n",
       "      <td>0.166667</td>\n",
       "    </tr>\n",
       "    <tr>\n",
       "      <th>1</th>\n",
       "      <td>0.096774</td>\n",
       "      <td>0.096774</td>\n",
       "      <td>0.096774</td>\n",
       "      <td>0.064516</td>\n",
       "    </tr>\n",
       "    <tr>\n",
       "      <th>2</th>\n",
       "      <td>0.333333</td>\n",
       "      <td>0.333333</td>\n",
       "      <td>0.111111</td>\n",
       "      <td>0.222222</td>\n",
       "    </tr>\n",
       "    <tr>\n",
       "      <th>3</th>\n",
       "      <td>0.000000</td>\n",
       "      <td>0.000000</td>\n",
       "      <td>0.000000</td>\n",
       "      <td>0.250000</td>\n",
       "    </tr>\n",
       "    <tr>\n",
       "      <th>4</th>\n",
       "      <td>0.000000</td>\n",
       "      <td>0.000000</td>\n",
       "      <td>0.000000</td>\n",
       "      <td>0.222222</td>\n",
       "    </tr>\n",
       "  </tbody>\n",
       "</table>\n",
       "</div>"
      ],
      "text/plain": [
       "   Food_LILATracts_1And10  Food_LILATracts_halfAnd10  Food_LILATracts_1And20  \\\n",
       "0                0.166667                   0.166667                0.083333   \n",
       "1                0.096774                   0.096774                0.096774   \n",
       "2                0.333333                   0.333333                0.111111   \n",
       "3                0.000000                   0.000000                0.000000   \n",
       "4                0.000000                   0.000000                0.000000   \n",
       "\n",
       "   Food_LILATracts_Vehicle  \n",
       "0                 0.166667  \n",
       "1                 0.064516  \n",
       "2                 0.222222  \n",
       "3                 0.250000  \n",
       "4                 0.222222  "
      ]
     },
     "execution_count": 256,
     "metadata": {},
     "output_type": "execute_result"
    }
   ],
   "source": [
    "desert_flags = combined_df[desert_flags_label_list]\n",
    "desert_flags.head()"
   ]
  },
  {
   "cell_type": "markdown",
   "metadata": {},
   "source": [
    "### Indicators of Food Access\n",
    "From the documentation, we know the following:\n",
    "- Accessibility to sources of healthy food, as measured by distance to a store or by the number of stores in an area.\n",
    "- Individual-level resources that may affect accessibility, such as family income or vehicle availability.\n",
    "- Neighborhood-level indicators of resources, such as the average income of the neighborhood and the availability of public transportation."
   ]
  },
  {
   "cell_type": "code",
   "execution_count": 257,
   "metadata": {
    "scrolled": true
   },
   "outputs": [
    {
     "data": {
      "text/plain": [
       "array([[<matplotlib.axes._subplots.AxesSubplot object at 0x12afdc8e0>,\n",
       "        <matplotlib.axes._subplots.AxesSubplot object at 0x1341c2370>],\n",
       "       [<matplotlib.axes._subplots.AxesSubplot object at 0x1341eb7f0>,\n",
       "        <matplotlib.axes._subplots.AxesSubplot object at 0x134293c40>]],\n",
       "      dtype=object)"
      ]
     },
     "execution_count": 257,
     "metadata": {},
     "output_type": "execute_result"
    },
    {
     "data": {
      "image/png": "[encoded data removed]",
      "text/plain": [
       "<Figure size 432x288 with 4 Axes>"
      ]
     },
     "metadata": {
      "needs_background": "light"
     },
     "output_type": "display_data"
    }
   ],
   "source": [
    "desert_flags.hist()"
   ]
  },
  {
   "cell_type": "markdown",
   "metadata": {},
   "source": [
    "## Binning\n",
    "To indicate how much of a food desert a Census-Tract is, we create 5 bins ranging from 0-20%, 20-40% etc"
   ]
  },
  {
   "cell_type": "code",
   "execution_count": 258,
   "metadata": {},
   "outputs": [
    {
     "data": {
      "text/plain": [
       "1"
      ]
     },
     "execution_count": 258,
     "metadata": {},
     "output_type": "execute_result"
    }
   ],
   "source": [
    "def bin_desert(percent, bins):\n",
    "    for i in range(1, bins+1):\n",
    "        if percent <= i/bins and percent >= 0:\n",
    "            return i\n",
    "        \n",
    "    return bins+1 # 6th bin for invalid input (negatives or greater than 1 percents)\n",
    "\n",
    "bin_desert(0.0, 5)"
   ]
  },
  {
   "cell_type": "code",
   "execution_count": 259,
   "metadata": {
    "scrolled": true
   },
   "outputs": [
    {
     "data": {
      "text/html": [
       "<div>\n",
       "<style scoped>\n",
       "    .dataframe tbody tr th:only-of-type {\n",
       "        vertical-align: middle;\n",
       "    }\n",
       "\n",
       "    .dataframe tbody tr th {\n",
       "        vertical-align: top;\n",
       "    }\n",
       "\n",
       "    .dataframe thead th {\n",
       "        text-align: right;\n",
       "    }\n",
       "</style>\n",
       "<table border=\"1\" class=\"dataframe\">\n",
       "  <thead>\n",
       "    <tr style=\"text-align: right;\">\n",
       "      <th></th>\n",
       "      <th>Food_LILATracts_1And10</th>\n",
       "      <th>Food_LILATracts_halfAnd10</th>\n",
       "      <th>Food_LILATracts_1And20</th>\n",
       "      <th>Food_LILATracts_Vehicle</th>\n",
       "    </tr>\n",
       "  </thead>\n",
       "  <tbody>\n",
       "    <tr>\n",
       "      <th>0</th>\n",
       "      <td>1</td>\n",
       "      <td>1</td>\n",
       "      <td>1</td>\n",
       "      <td>1</td>\n",
       "    </tr>\n",
       "    <tr>\n",
       "      <th>1</th>\n",
       "      <td>1</td>\n",
       "      <td>1</td>\n",
       "      <td>1</td>\n",
       "      <td>1</td>\n",
       "    </tr>\n",
       "    <tr>\n",
       "      <th>2</th>\n",
       "      <td>2</td>\n",
       "      <td>2</td>\n",
       "      <td>1</td>\n",
       "      <td>2</td>\n",
       "    </tr>\n",
       "    <tr>\n",
       "      <th>3</th>\n",
       "      <td>1</td>\n",
       "      <td>1</td>\n",
       "      <td>1</td>\n",
       "      <td>2</td>\n",
       "    </tr>\n",
       "    <tr>\n",
       "      <th>4</th>\n",
       "      <td>1</td>\n",
       "      <td>1</td>\n",
       "      <td>1</td>\n",
       "      <td>2</td>\n",
       "    </tr>\n",
       "  </tbody>\n",
       "</table>\n",
       "</div>"
      ],
      "text/plain": [
       "   Food_LILATracts_1And10  Food_LILATracts_halfAnd10  Food_LILATracts_1And20  \\\n",
       "0                       1                          1                       1   \n",
       "1                       1                          1                       1   \n",
       "2                       2                          2                       1   \n",
       "3                       1                          1                       1   \n",
       "4                       1                          1                       1   \n",
       "\n",
       "   Food_LILATracts_Vehicle  \n",
       "0                        1  \n",
       "1                        1  \n",
       "2                        2  \n",
       "3                        2  \n",
       "4                        2  "
      ]
     },
     "execution_count": 259,
     "metadata": {},
     "output_type": "execute_result"
    }
   ],
   "source": [
    "desert_flags = desert_flags.apply(lambda x : x.apply( lambda y : bin_desert(y, 5)))\n",
    "desert_flags.head()"
   ]
  },
  {
   "cell_type": "code",
   "execution_count": 260,
   "metadata": {},
   "outputs": [],
   "source": [
    "combined_df[desert_flags_label_list] = desert_flags\n",
    "# combined_df[desert_flags_label_list]"
   ]
  },
  {
   "cell_type": "markdown",
   "metadata": {},
   "source": [
    "## Dealing with NaN values"
   ]
  },
  {
   "cell_type": "code",
   "execution_count": 261,
   "metadata": {},
   "outputs": [
    {
     "data": {
      "text/plain": [
       "3.8272816486751715"
      ]
     },
     "execution_count": 261,
     "metadata": {},
     "output_type": "execute_result"
    }
   ],
   "source": [
    "total_rows = combined_df.shape[0]\n",
    "nan_rows = combined_df[combined_df.isna().any(axis=1)].shape[0]\n",
    "(nan_rows/total_rows)*100"
   ]
  },
  {
   "cell_type": "markdown",
   "metadata": {},
   "source": [
    "3.83 percent of all the rows contain some undefined data."
   ]
  },
  {
   "cell_type": "code",
   "execution_count": 262,
   "metadata": {
    "scrolled": true
   },
   "outputs": [
    {
     "data": {
      "text/html": [
       "<div>\n",
       "<style scoped>\n",
       "    .dataframe tbody tr th:only-of-type {\n",
       "        vertical-align: middle;\n",
       "    }\n",
       "\n",
       "    .dataframe tbody tr th {\n",
       "        vertical-align: top;\n",
       "    }\n",
       "\n",
       "    .dataframe thead th {\n",
       "        text-align: right;\n",
       "    }\n",
       "</style>\n",
       "<table border=\"1\" class=\"dataframe\">\n",
       "  <thead>\n",
       "    <tr style=\"text-align: right;\">\n",
       "      <th></th>\n",
       "      <th>Educ_countyid</th>\n",
       "      <th>Educ_fips</th>\n",
       "      <th>Educ_gap_est</th>\n",
       "      <th>Educ_tot_asmts</th>\n",
       "      <th>Educ_cellcount</th>\n",
       "      <th>Educ_mn_asmts</th>\n",
       "      <th>Educ_mn_avg_ol</th>\n",
       "      <th>Educ_mn_grd_ol</th>\n",
       "      <th>Educ_mn_coh_ol</th>\n",
       "      <th>Educ_mn_mth_ol</th>\n",
       "      <th>...</th>\n",
       "      <th>Food_TractBlack</th>\n",
       "      <th>Food_TractAsian</th>\n",
       "      <th>Food_TractNHOPI</th>\n",
       "      <th>Food_TractAIAN</th>\n",
       "      <th>Food_TractOMultir</th>\n",
       "      <th>Food_TractHispanic</th>\n",
       "      <th>Food_TractHUNV</th>\n",
       "      <th>Food_TractSNAP</th>\n",
       "      <th>County</th>\n",
       "      <th>State</th>\n",
       "    </tr>\n",
       "  </thead>\n",
       "  <tbody>\n",
       "    <tr>\n",
       "      <th>67</th>\n",
       "      <td>2230</td>\n",
       "      <td>2.0</td>\n",
       "      <td>0.0</td>\n",
       "      <td>325.0</td>\n",
       "      <td>67.0</td>\n",
       "      <td>4.850746</td>\n",
       "      <td>7.531304</td>\n",
       "      <td>NaN</td>\n",
       "      <td>NaN</td>\n",
       "      <td>NaN</td>\n",
       "      <td>...</td>\n",
       "      <td>0.000000</td>\n",
       "      <td>5.000000</td>\n",
       "      <td>1.000000</td>\n",
       "      <td>34.000000</td>\n",
       "      <td>43.000000</td>\n",
       "      <td>21.000000</td>\n",
       "      <td>26.000000</td>\n",
       "      <td>13.000000</td>\n",
       "      <td>Skagway Municipality</td>\n",
       "      <td>AK</td>\n",
       "    </tr>\n",
       "    <tr>\n",
       "      <th>159</th>\n",
       "      <td>6003</td>\n",
       "      <td>6.0</td>\n",
       "      <td>0.0</td>\n",
       "      <td>533.0</td>\n",
       "      <td>61.0</td>\n",
       "      <td>8.737705</td>\n",
       "      <td>5.046593</td>\n",
       "      <td>NaN</td>\n",
       "      <td>NaN</td>\n",
       "      <td>NaN</td>\n",
       "      <td>...</td>\n",
       "      <td>0.000000</td>\n",
       "      <td>7.000000</td>\n",
       "      <td>0.000000</td>\n",
       "      <td>240.000000</td>\n",
       "      <td>47.000000</td>\n",
       "      <td>84.000000</td>\n",
       "      <td>7.000000</td>\n",
       "      <td>23.000000</td>\n",
       "      <td>Alpine</td>\n",
       "      <td>CA</td>\n",
       "    </tr>\n",
       "    <tr>\n",
       "      <th>217</th>\n",
       "      <td>8003</td>\n",
       "      <td>8.0</td>\n",
       "      <td>0.0</td>\n",
       "      <td>7778.0</td>\n",
       "      <td>42.0</td>\n",
       "      <td>185.190476</td>\n",
       "      <td>5.493467</td>\n",
       "      <td>NaN</td>\n",
       "      <td>NaN</td>\n",
       "      <td>-0.193893</td>\n",
       "      <td>...</td>\n",
       "      <td>43.000000</td>\n",
       "      <td>37.000000</td>\n",
       "      <td>4.750000</td>\n",
       "      <td>108.250000</td>\n",
       "      <td>781.000000</td>\n",
       "      <td>1777.500000</td>\n",
       "      <td>131.750000</td>\n",
       "      <td>348.000000</td>\n",
       "      <td>Alamosa</td>\n",
       "      <td>CO</td>\n",
       "    </tr>\n",
       "    <tr>\n",
       "      <th>218</th>\n",
       "      <td>8005</td>\n",
       "      <td>8.0</td>\n",
       "      <td>0.0</td>\n",
       "      <td>308032.0</td>\n",
       "      <td>37.0</td>\n",
       "      <td>8325.189189</td>\n",
       "      <td>5.996026</td>\n",
       "      <td>0.930396</td>\n",
       "      <td>NaN</td>\n",
       "      <td>0.192001</td>\n",
       "      <td>...</td>\n",
       "      <td>395.285714</td>\n",
       "      <td>197.802721</td>\n",
       "      <td>7.755102</td>\n",
       "      <td>29.680272</td>\n",
       "      <td>431.333333</td>\n",
       "      <td>717.836735</td>\n",
       "      <td>84.755102</td>\n",
       "      <td>123.122449</td>\n",
       "      <td>Arapahoe</td>\n",
       "      <td>CO</td>\n",
       "    </tr>\n",
       "    <tr>\n",
       "      <th>219</th>\n",
       "      <td>8007</td>\n",
       "      <td>8.0</td>\n",
       "      <td>0.0</td>\n",
       "      <td>4491.0</td>\n",
       "      <td>43.0</td>\n",
       "      <td>104.441860</td>\n",
       "      <td>5.731876</td>\n",
       "      <td>NaN</td>\n",
       "      <td>NaN</td>\n",
       "      <td>-0.201018</td>\n",
       "      <td>...</td>\n",
       "      <td>9.250000</td>\n",
       "      <td>22.250000</td>\n",
       "      <td>1.500000</td>\n",
       "      <td>56.750000</td>\n",
       "      <td>322.250000</td>\n",
       "      <td>537.000000</td>\n",
       "      <td>30.500000</td>\n",
       "      <td>125.000000</td>\n",
       "      <td>Archuleta</td>\n",
       "      <td>CO</td>\n",
       "    </tr>\n",
       "  </tbody>\n",
       "</table>\n",
       "<p>5 rows × 169 columns</p>\n",
       "</div>"
      ],
      "text/plain": [
       "     Educ_countyid  Educ_fips  Educ_gap_est  Educ_tot_asmts  Educ_cellcount  \\\n",
       "67            2230        2.0           0.0           325.0            67.0   \n",
       "159           6003        6.0           0.0           533.0            61.0   \n",
       "217           8003        8.0           0.0          7778.0            42.0   \n",
       "218           8005        8.0           0.0        308032.0            37.0   \n",
       "219           8007        8.0           0.0          4491.0            43.0   \n",
       "\n",
       "     Educ_mn_asmts  Educ_mn_avg_ol  Educ_mn_grd_ol  Educ_mn_coh_ol  \\\n",
       "67        4.850746        7.531304             NaN             NaN   \n",
       "159       8.737705        5.046593             NaN             NaN   \n",
       "217     185.190476        5.493467             NaN             NaN   \n",
       "218    8325.189189        5.996026        0.930396             NaN   \n",
       "219     104.441860        5.731876             NaN             NaN   \n",
       "\n",
       "     Educ_mn_mth_ol  ...  Food_TractBlack  Food_TractAsian  Food_TractNHOPI  \\\n",
       "67              NaN  ...         0.000000         5.000000         1.000000   \n",
       "159             NaN  ...         0.000000         7.000000         0.000000   \n",
       "217       -0.193893  ...        43.000000        37.000000         4.750000   \n",
       "218        0.192001  ...       395.285714       197.802721         7.755102   \n",
       "219       -0.201018  ...         9.250000        22.250000         1.500000   \n",
       "\n",
       "     Food_TractAIAN  Food_TractOMultir  Food_TractHispanic  Food_TractHUNV  \\\n",
       "67        34.000000          43.000000           21.000000       26.000000   \n",
       "159      240.000000          47.000000           84.000000        7.000000   \n",
       "217      108.250000         781.000000         1777.500000      131.750000   \n",
       "218       29.680272         431.333333          717.836735       84.755102   \n",
       "219       56.750000         322.250000          537.000000       30.500000   \n",
       "\n",
       "     Food_TractSNAP                County  State  \n",
       "67        13.000000  Skagway Municipality     AK  \n",
       "159       23.000000                Alpine     CA  \n",
       "217      348.000000               Alamosa     CO  \n",
       "218      123.122449              Arapahoe     CO  \n",
       "219      125.000000             Archuleta     CO  \n",
       "\n",
       "[5 rows x 169 columns]"
      ]
     },
     "execution_count": 262,
     "metadata": {},
     "output_type": "execute_result"
    }
   ],
   "source": [
    "combined_df[combined_df.isna().any(axis=1)].head()"
   ]
  },
  {
   "cell_type": "code",
   "execution_count": 263,
   "metadata": {},
   "outputs": [],
   "source": [
    "# NaN values: find better way to deal with these rows. Currently setting all to zero.\n",
    "# Maybe add a flag to indicate it is a row with insuffiect info?\n",
    "combined_df = combined_df.fillna(0)"
   ]
  },
  {
   "cell_type": "markdown",
   "metadata": {},
   "source": [
    "## Principal Component Analysis (PCA)"
   ]
  },
  {
   "cell_type": "code",
   "execution_count": 270,
   "metadata": {},
   "outputs": [],
   "source": [
    "# desert_flags_label_list\n",
    "classes = combined_df[desert_flags_label_list]\n",
    "features = combined_df.copy();\n",
    "features = features.drop(columns=desert_flags_label_list + ['County', 'State'])\n",
    "# print(features)\n",
    "\n",
    "X_train, X_test, Y_train, Y_test = train_test_split(features, classes, test_size=0.1, random_state=0) "
   ]
  },
  {
   "cell_type": "markdown",
   "metadata": {},
   "source": [
    "Then, we standardize the data. Here, we are tranforming the data to unit scale, where mean = 0 and variance = 1. This will help increase the performance of the model."
   ]
  },
  {
   "cell_type": "code",
   "execution_count": 265,
   "metadata": {},
   "outputs": [],
   "source": [
    "# scaler = StandardScaler()\n",
    "# # Fit on training set only.\n",
    "# scaler.fit(X_train)\n",
    "# # Apply transform to both the training set and the test set.\n",
    "# X_train = scaler.transform(X_train)\n",
    "# X_test = scaler.transform(X_test)"
   ]
  },
  {
   "cell_type": "markdown",
   "metadata": {},
   "source": [
    "Apply PCA by making an instance of the model and fitting PCA on the training set"
   ]
  },
  {
   "cell_type": "code",
   "execution_count": 266,
   "metadata": {},
   "outputs": [],
   "source": [
    "# # Make an instance of the Model and fit\n",
    "# pca = PCA(.95)\n",
    "# pca.fit(X_train)\n",
    "# # Apply transform to both the training set and the test set.\n",
    "# X_train = pca.transform(X_train)\n",
    "# X_test = pca.transform(X_test)"
   ]
  },
  {
   "cell_type": "code",
   "execution_count": 274,
   "metadata": {
    "scrolled": true
   },
   "outputs": [
    {
     "data": {
      "text/plain": [
       "DecisionTreeClassifier()"
      ]
     },
     "execution_count": 274,
     "metadata": {},
     "output_type": "execute_result"
    }
   ],
   "source": [
    "pca = PCA()\n",
    "classifier = tree.DecisionTreeClassifier()\n",
    "\n",
    "# transform / fit\n",
    "X_transformed = pca.fit_transform(X_train)\n",
    "# Y_transformed = pca.fit_transform(Y_train)\n",
    "\n",
    "# print(Y_transformed)\n",
    "\n",
    "# print(X_transformed.shape)\n",
    "# print(Y_transformed.shape)\n",
    "\n",
    "classifier.fit(X_transformed, Y_train)"
   ]
  },
  {
   "cell_type": "code",
   "execution_count": null,
   "metadata": {},
   "outputs": [],
   "source": [
    "# predict \"new\" data\n",
    "# (I'm faking it here by using the original data)\n",
    "# newdata = iris.data\n",
    "\n",
    "# # transform new data using already fitted pca\n",
    "# # (don't re-fit the pca)\n",
    "# newdata_transformed = pca.transform(newdata)\n",
    "\n",
    "# # predict labels using the trained classifier\n",
    "\n",
    "# pred_labels = classifier.predict(newdata_transformed)"
   ]
  }
 ],
 "metadata": {
  "kernelspec": {
   "display_name": "Python 3",
   "language": "python",
   "name": "python3"
  },
  "language_info": {
   "codemirror_mode": {
    "name": "ipython",
    "version": 3
   },
   "file_extension": ".py",
   "mimetype": "text/x-python",
   "name": "python",
   "nbconvert_exporter": "python",
   "pygments_lexer": "ipython3",
   "version": "3.8.3"
  }
 },
 "nbformat": 4,
 "nbformat_minor": 4
}
