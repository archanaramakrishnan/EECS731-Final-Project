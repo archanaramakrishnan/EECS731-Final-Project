{
 "cells": [
  {
   "cell_type": "markdown",
   "metadata": {
    "id": "kvDZpjxID_7a"
   },
   "source": [
    "# Regression: Predicting Average Test Score\n",
    "\n",
    "In this file, we took data, about food desserts in the United States averaged across census tract per county. We also took data that described average test scores for student in first through eighth grade. We used average family income, food poverty rates, and the kids distance to grocery stores to predict an average test score per county.\n"
   ]
  },
  {
   "cell_type": "code",
   "execution_count": 1,
   "metadata": {
    "colab": {
     "base_uri": "https://localhost:8080/"
    },
    "executionInfo": {
     "elapsed": 764,
     "status": "ok",
     "timestamp": 1605717053175,
     "user": {
      "displayName": "Anna Fritz",
      "photoUrl": "",
      "userId": "03073872417695927328"
     },
     "user_tz": 360
    },
    "id": "C8Eau-Dt5rl2",
    "outputId": "6f215e5b-7285-4344-e5fc-e68b35144875"
   },
   "outputs": [],
   "source": [
    "import pandas as pd\n",
    "import numpy as np\n",
    "\n",
    "DRIVE = False\n",
    "\n",
    "if DRIVE:\n",
    "    from google.colab import drive \n",
    "    drive.mount('/content/gdrive')\n",
    "    data_path = \"gdrive/My Drive/731-Semester-Project/data/\"\n",
    "else:\n",
    "    data_path = \"../data/\"\n",
    "\n",
    "combined_df = pd.read_csv(data_path + \"new_combined_data.csv\")"
   ]
  },
  {
   "cell_type": "markdown",
   "metadata": {
    "id": "Q1d7cuJbS6K_"
   },
   "source": [
    "First, members of our group combined data into the file `combined_data.csv` found in the `data` folder. We began by importing the combined data."
   ]
  },
  {
   "cell_type": "code",
   "execution_count": 2,
   "metadata": {
    "colab": {
     "base_uri": "https://localhost:8080/",
     "height": 270
    },
    "executionInfo": {
     "elapsed": 1125,
     "status": "ok",
     "timestamp": 1605717053547,
     "user": {
      "displayName": "Anna Fritz",
      "photoUrl": "",
      "userId": "03073872417695927328"
     },
     "user_tz": 360
    },
    "id": "QC4xp9tD55TK",
    "outputId": "6dd7c5b2-752b-4de1-e37d-176bf41e8fbe"
   },
   "outputs": [
    {
     "data": {
      "text/html": [
       "<div>\n",
       "<style scoped>\n",
       "    .dataframe tbody tr th:only-of-type {\n",
       "        vertical-align: middle;\n",
       "    }\n",
       "\n",
       "    .dataframe tbody tr th {\n",
       "        vertical-align: top;\n",
       "    }\n",
       "\n",
       "    .dataframe thead th {\n",
       "        text-align: right;\n",
       "    }\n",
       "</style>\n",
       "<table border=\"1\" class=\"dataframe\">\n",
       "  <thead>\n",
       "    <tr style=\"text-align: right;\">\n",
       "      <th></th>\n",
       "      <th>Unnamed: 0</th>\n",
       "      <th>Educ_index</th>\n",
       "      <th>Educ_countyid</th>\n",
       "      <th>Educ_fips</th>\n",
       "      <th>Educ_gap_est</th>\n",
       "      <th>Educ_tot_asmts</th>\n",
       "      <th>Educ_cellcount</th>\n",
       "      <th>Educ_mn_asmts</th>\n",
       "      <th>Educ_mn_avg_ol</th>\n",
       "      <th>Educ_mn_grd_ol</th>\n",
       "      <th>...</th>\n",
       "      <th>Food_HUNVFlag</th>\n",
       "      <th>Food_LowIncomeTracts</th>\n",
       "      <th>Food_LA1and10</th>\n",
       "      <th>Food_LAhalfand10</th>\n",
       "      <th>Food_LA1and20</th>\n",
       "      <th>Food_LATracts_half</th>\n",
       "      <th>Food_LATracts1</th>\n",
       "      <th>Food_LATracts10</th>\n",
       "      <th>Food_LATracts20</th>\n",
       "      <th>Food_LATractsVehicle_20</th>\n",
       "    </tr>\n",
       "  </thead>\n",
       "  <tbody>\n",
       "    <tr>\n",
       "      <th>0</th>\n",
       "      <td>0</td>\n",
       "      <td>0</td>\n",
       "      <td>1001</td>\n",
       "      <td>1</td>\n",
       "      <td>0</td>\n",
       "      <td>72864</td>\n",
       "      <td>96</td>\n",
       "      <td>759.000000</td>\n",
       "      <td>5.636815</td>\n",
       "      <td>1.048619</td>\n",
       "      <td>...</td>\n",
       "      <td>0.367558</td>\n",
       "      <td>0.113815</td>\n",
       "      <td>0.712558</td>\n",
       "      <td>0.752323</td>\n",
       "      <td>0.494695</td>\n",
       "      <td>0.534460</td>\n",
       "      <td>0.494695</td>\n",
       "      <td>0.217863</td>\n",
       "      <td>0.0</td>\n",
       "      <td>0.367558</td>\n",
       "    </tr>\n",
       "    <tr>\n",
       "      <th>1</th>\n",
       "      <td>1</td>\n",
       "      <td>15</td>\n",
       "      <td>1003</td>\n",
       "      <td>1</td>\n",
       "      <td>0</td>\n",
       "      <td>213214</td>\n",
       "      <td>96</td>\n",
       "      <td>2220.979167</td>\n",
       "      <td>5.428993</td>\n",
       "      <td>0.832481</td>\n",
       "      <td>...</td>\n",
       "      <td>0.131622</td>\n",
       "      <td>0.193888</td>\n",
       "      <td>0.454015</td>\n",
       "      <td>0.477223</td>\n",
       "      <td>0.430768</td>\n",
       "      <td>0.453976</td>\n",
       "      <td>0.430768</td>\n",
       "      <td>0.023246</td>\n",
       "      <td>0.0</td>\n",
       "      <td>0.131622</td>\n",
       "    </tr>\n",
       "    <tr>\n",
       "      <th>2</th>\n",
       "      <td>2</td>\n",
       "      <td>30</td>\n",
       "      <td>1005</td>\n",
       "      <td>1</td>\n",
       "      <td>0</td>\n",
       "      <td>26521</td>\n",
       "      <td>96</td>\n",
       "      <td>276.260417</td>\n",
       "      <td>3.692509</td>\n",
       "      <td>0.956793</td>\n",
       "      <td>...</td>\n",
       "      <td>0.478931</td>\n",
       "      <td>0.768438</td>\n",
       "      <td>0.579087</td>\n",
       "      <td>0.579087</td>\n",
       "      <td>0.241760</td>\n",
       "      <td>0.241760</td>\n",
       "      <td>0.241760</td>\n",
       "      <td>0.337327</td>\n",
       "      <td>0.0</td>\n",
       "      <td>0.478931</td>\n",
       "    </tr>\n",
       "    <tr>\n",
       "      <th>3</th>\n",
       "      <td>3</td>\n",
       "      <td>44</td>\n",
       "      <td>1007</td>\n",
       "      <td>1</td>\n",
       "      <td>0</td>\n",
       "      <td>25678</td>\n",
       "      <td>96</td>\n",
       "      <td>267.479167</td>\n",
       "      <td>4.235791</td>\n",
       "      <td>0.996612</td>\n",
       "      <td>...</td>\n",
       "      <td>0.382588</td>\n",
       "      <td>1.000000</td>\n",
       "      <td>0.000000</td>\n",
       "      <td>0.000000</td>\n",
       "      <td>0.000000</td>\n",
       "      <td>0.000000</td>\n",
       "      <td>0.000000</td>\n",
       "      <td>0.000000</td>\n",
       "      <td>0.0</td>\n",
       "      <td>0.382588</td>\n",
       "    </tr>\n",
       "    <tr>\n",
       "      <th>4</th>\n",
       "      <td>4</td>\n",
       "      <td>56</td>\n",
       "      <td>1009</td>\n",
       "      <td>1</td>\n",
       "      <td>0</td>\n",
       "      <td>71940</td>\n",
       "      <td>96</td>\n",
       "      <td>749.375000</td>\n",
       "      <td>4.689641</td>\n",
       "      <td>0.866955</td>\n",
       "      <td>...</td>\n",
       "      <td>0.387931</td>\n",
       "      <td>0.434510</td>\n",
       "      <td>0.275304</td>\n",
       "      <td>0.275304</td>\n",
       "      <td>0.122989</td>\n",
       "      <td>0.122989</td>\n",
       "      <td>0.122989</td>\n",
       "      <td>0.152315</td>\n",
       "      <td>0.0</td>\n",
       "      <td>0.387931</td>\n",
       "    </tr>\n",
       "  </tbody>\n",
       "</table>\n",
       "<p>5 rows × 170 columns</p>\n",
       "</div>"
      ],
      "text/plain": [
       "   Unnamed: 0  Educ_index  Educ_countyid  Educ_fips  Educ_gap_est  \\\n",
       "0           0           0           1001          1             0   \n",
       "1           1          15           1003          1             0   \n",
       "2           2          30           1005          1             0   \n",
       "3           3          44           1007          1             0   \n",
       "4           4          56           1009          1             0   \n",
       "\n",
       "   Educ_tot_asmts  Educ_cellcount  Educ_mn_asmts  Educ_mn_avg_ol  \\\n",
       "0           72864              96     759.000000        5.636815   \n",
       "1          213214              96    2220.979167        5.428993   \n",
       "2           26521              96     276.260417        3.692509   \n",
       "3           25678              96     267.479167        4.235791   \n",
       "4           71940              96     749.375000        4.689641   \n",
       "\n",
       "   Educ_mn_grd_ol  ...  Food_HUNVFlag  Food_LowIncomeTracts  Food_LA1and10  \\\n",
       "0        1.048619  ...       0.367558              0.113815       0.712558   \n",
       "1        0.832481  ...       0.131622              0.193888       0.454015   \n",
       "2        0.956793  ...       0.478931              0.768438       0.579087   \n",
       "3        0.996612  ...       0.382588              1.000000       0.000000   \n",
       "4        0.866955  ...       0.387931              0.434510       0.275304   \n",
       "\n",
       "   Food_LAhalfand10  Food_LA1and20  Food_LATracts_half  Food_LATracts1  \\\n",
       "0          0.752323       0.494695            0.534460        0.494695   \n",
       "1          0.477223       0.430768            0.453976        0.430768   \n",
       "2          0.579087       0.241760            0.241760        0.241760   \n",
       "3          0.000000       0.000000            0.000000        0.000000   \n",
       "4          0.275304       0.122989            0.122989        0.122989   \n",
       "\n",
       "   Food_LATracts10  Food_LATracts20  Food_LATractsVehicle_20  \n",
       "0         0.217863              0.0                 0.367558  \n",
       "1         0.023246              0.0                 0.131622  \n",
       "2         0.337327              0.0                 0.478931  \n",
       "3         0.000000              0.0                 0.382588  \n",
       "4         0.152315              0.0                 0.387931  \n",
       "\n",
       "[5 rows x 170 columns]"
      ]
     },
     "execution_count": 2,
     "metadata": {},
     "output_type": "execute_result"
    }
   ],
   "source": [
    "combined_df.head()"
   ]
  },
  {
   "cell_type": "markdown",
   "metadata": {
    "id": "iRHQsIJJS_Cu"
   },
   "source": [
    "## Feature Selection \n",
    "\n",
    "We looked at different features in the data set to decide which ones would be beneficial to predict test scores. \n",
    "\n",
    "First, we looked at what the highest and lowest score possible for students test scores. We found the `Educ_mn_avg_ol` is the students test scores where the highest score was 7.62 and the lowest was 1.90. "
   ]
  },
  {
   "cell_type": "code",
   "execution_count": 3,
   "metadata": {
    "colab": {
     "base_uri": "https://localhost:8080/"
    },
    "executionInfo": {
     "elapsed": 1312,
     "status": "ok",
     "timestamp": 1605717053745,
     "user": {
      "displayName": "Anna Fritz",
      "photoUrl": "",
      "userId": "03073872417695927328"
     },
     "user_tz": 360
    },
    "id": "PpyV2fgm6BIn",
    "outputId": "b4cfe9d8-15ef-4f10-ce74-26a9bed631e7"
   },
   "outputs": [
    {
     "data": {
      "text/plain": [
       "count    3057.000000\n",
       "mean        5.402561\n",
       "std         0.758703\n",
       "min         1.899497\n",
       "25%         4.962986\n",
       "50%         5.454591\n",
       "75%         5.920150\n",
       "max         7.617769\n",
       "Name: Educ_mn_avg_ol, dtype: float64"
      ]
     },
     "execution_count": 3,
     "metadata": {},
     "output_type": "execute_result"
    }
   ],
   "source": [
    "combined_df['Educ_mn_avg_ol'].describe()"
   ]
  },
  {
   "cell_type": "markdown",
   "metadata": {
    "id": "ZY8_PuWKTC20"
   },
   "source": [
    "`Educ_mn_grd_ol` is the grade slope of the test scores. This is the performance of each grade from one year to the next. For example, the performace of 8th graders from one year to another. We decided not to use this column. "
   ]
  },
  {
   "cell_type": "code",
   "execution_count": 4,
   "metadata": {
    "colab": {
     "base_uri": "https://localhost:8080/"
    },
    "executionInfo": {
     "elapsed": 1303,
     "status": "ok",
     "timestamp": 1605717053749,
     "user": {
      "displayName": "Anna Fritz",
      "photoUrl": "",
      "userId": "03073872417695927328"
     },
     "user_tz": 360
    },
    "id": "hkPswZBn9HaH",
    "outputId": "5ed5da47-4ffe-4b85-b87b-6903f086b612"
   },
   "outputs": [
    {
     "data": {
      "text/plain": [
       "count    2960.000000\n",
       "mean        0.987060\n",
       "std         0.116665\n",
       "min         0.383644\n",
       "25%         0.915746\n",
       "50%         0.989539\n",
       "75%         1.063606\n",
       "max         1.506569\n",
       "Name: Educ_mn_grd_ol, dtype: float64"
      ]
     },
     "execution_count": 4,
     "metadata": {},
     "output_type": "execute_result"
    }
   ],
   "source": [
    "combined_df['Educ_mn_grd_ol'].describe()"
   ]
  },
  {
   "cell_type": "markdown",
   "metadata": {
    "id": "J2sKv7drTGKa"
   },
   "source": [
    "`Educ_mn_coh_ol` is the grade slope of each cohort of students. This feature detailed how students were progressing year after year. In other words, how the same group of students is progressing throughout 1st - 8th grade. "
   ]
  },
  {
   "cell_type": "code",
   "execution_count": 5,
   "metadata": {
    "colab": {
     "base_uri": "https://localhost:8080/"
    },
    "executionInfo": {
     "elapsed": 1292,
     "status": "ok",
     "timestamp": 1605717053749,
     "user": {
      "displayName": "Anna Fritz",
      "photoUrl": "",
      "userId": "03073872417695927328"
     },
     "user_tz": 360
    },
    "id": "i35CrUo9AQqb",
    "outputId": "b7991baa-5675-462e-acc6-d769321559b7"
   },
   "outputs": [
    {
     "data": {
      "text/plain": [
       "count    2956.000000\n",
       "mean        0.020232\n",
       "std         0.071281\n",
       "min        -0.264747\n",
       "25%        -0.023801\n",
       "50%         0.019582\n",
       "75%         0.063733\n",
       "max         0.446719\n",
       "Name: Educ_mn_coh_ol, dtype: float64"
      ]
     },
     "execution_count": 5,
     "metadata": {},
     "output_type": "execute_result"
    }
   ],
   "source": [
    "combined_df['Educ_mn_coh_ol'].describe()"
   ]
  },
  {
   "cell_type": "markdown",
   "metadata": {
    "id": "fCDRVEeyTKP0"
   },
   "source": [
    "We decided to predict scores using the `Educ_mn_avg_ol` feature."
   ]
  },
  {
   "cell_type": "code",
   "execution_count": 6,
   "metadata": {
    "id": "QBolQleXKkGg"
   },
   "outputs": [],
   "source": [
    "regression_df = pd.DataFrame()"
   ]
  },
  {
   "cell_type": "markdown",
   "metadata": {
    "id": "8-Y7-yCeTYPk"
   },
   "source": [
    "Next, we looked at features in the Food Dessert data set. These are features that begin with Food_. The values in each feature are averaged across census tract per county.\n",
    "\n",
    "We looked at the features that began with Food_lakids followed by a number, x. These features indicates the percentage of kids in the population that live x distance from the nearest grocery store. For example, in Food_lakids1, this is the share of kids averaged across census tract per county county that live 1 mile from the nearest grocery store."
   ]
  },
  {
   "cell_type": "code",
   "execution_count": 7,
   "metadata": {
    "colab": {
     "base_uri": "https://localhost:8080/"
    },
    "executionInfo": {
     "elapsed": 1282,
     "status": "ok",
     "timestamp": 1605717053751,
     "user": {
      "displayName": "Anna Fritz",
      "photoUrl": "",
      "userId": "03073872417695927328"
     },
     "user_tz": 360
    },
    "id": "SFXEfnE9D820",
    "outputId": "af1b4705-e0e7-4615-8bfc-d2aa92009dcb"
   },
   "outputs": [
    {
     "data": {
      "text/plain": [
       "count      3057.000000\n",
       "mean       9754.944545\n",
       "std       17312.243670\n",
       "min           0.000000\n",
       "25%        1748.700800\n",
       "50%        4200.910309\n",
       "75%        9766.208079\n",
       "max      283577.452902\n",
       "Name: Food_lakids1, dtype: float64"
      ]
     },
     "execution_count": 7,
     "metadata": {},
     "output_type": "execute_result"
    }
   ],
   "source": [
    "combined_df['Food_lakids1'].describe()"
   ]
  },
  {
   "cell_type": "code",
   "execution_count": 8,
   "metadata": {
    "colab": {
     "base_uri": "https://localhost:8080/"
    },
    "executionInfo": {
     "elapsed": 1269,
     "status": "ok",
     "timestamp": 1605717053753,
     "user": {
      "displayName": "Anna Fritz",
      "photoUrl": "",
      "userId": "03073872417695927328"
     },
     "user_tz": 360
    },
    "id": "rPM9UfJ_Efvx",
    "outputId": "3cbfc80e-e636-4cee-d588-b7893bd6d560"
   },
   "outputs": [
    {
     "data": {
      "text/plain": [
       "count    3057.000000\n",
       "mean        0.152029\n",
       "std         0.046939\n",
       "min         0.000000\n",
       "25%         0.121438\n",
       "50%         0.153799\n",
       "75%         0.181411\n",
       "max         0.346546\n",
       "Name: Food_lakids1share, dtype: float64"
      ]
     },
     "execution_count": 8,
     "metadata": {},
     "output_type": "execute_result"
    }
   ],
   "source": [
    "combined_df['Food_lakids1share'].describe()"
   ]
  },
  {
   "cell_type": "code",
   "execution_count": 9,
   "metadata": {
    "colab": {
     "base_uri": "https://localhost:8080/"
    },
    "executionInfo": {
     "elapsed": 1260,
     "status": "ok",
     "timestamp": 1605717053754,
     "user": {
      "displayName": "Anna Fritz",
      "photoUrl": "",
      "userId": "03073872417695927328"
     },
     "user_tz": 360
    },
    "id": "Z8IHvBKNEW65",
    "outputId": "3544bae2-79fe-4618-c0e1-aa5d415b10a0"
   },
   "outputs": [
    {
     "data": {
      "text/plain": [
       "count    3057.000000\n",
       "mean        0.007484\n",
       "std         0.032986\n",
       "min         0.000000\n",
       "25%         0.000000\n",
       "50%         0.000000\n",
       "75%         0.000000\n",
       "max         0.313558\n",
       "Name: Food_lakids20share, dtype: float64"
      ]
     },
     "execution_count": 9,
     "metadata": {},
     "output_type": "execute_result"
    }
   ],
   "source": [
    "combined_df['Food_lakids20share'].describe()"
   ]
  },
  {
   "cell_type": "markdown",
   "metadata": {
    "id": "HeEfUfl1TcJ5"
   },
   "source": [
    "We looked at the `Food_ProvertyRate` which is the poverty rate as averaged across the census tract per county. "
   ]
  },
  {
   "cell_type": "code",
   "execution_count": 10,
   "metadata": {
    "colab": {
     "base_uri": "https://localhost:8080/"
    },
    "executionInfo": {
     "elapsed": 1251,
     "status": "ok",
     "timestamp": 1605717053754,
     "user": {
      "displayName": "Anna Fritz",
      "photoUrl": "",
      "userId": "03073872417695927328"
     },
     "user_tz": 360
    },
    "id": "H0V2IV8tGfSq",
    "outputId": "bc61f289-69d7-4efe-ba9f-e50d7fadd121"
   },
   "outputs": [
    {
     "data": {
      "text/plain": [
       "count    3057.000000\n",
       "mean       16.879859\n",
       "std         6.488585\n",
       "min         1.000000\n",
       "25%        12.238929\n",
       "50%        16.178341\n",
       "75%        20.368075\n",
       "max        47.862723\n",
       "Name: Food_PovertyRate, dtype: float64"
      ]
     },
     "execution_count": 10,
     "metadata": {},
     "output_type": "execute_result"
    }
   ],
   "source": [
    "combined_df['Food_PovertyRate'].describe()"
   ]
  },
  {
   "cell_type": "markdown",
   "metadata": {
    "id": "BSBXXkOuTf8C"
   },
   "source": [
    "We looked at the Food_MedianFamilyIncome which is the median family income as averaged across the census tract per county."
   ]
  },
  {
   "cell_type": "code",
   "execution_count": 11,
   "metadata": {
    "colab": {
     "base_uri": "https://localhost:8080/"
    },
    "executionInfo": {
     "elapsed": 1243,
     "status": "ok",
     "timestamp": 1605717053755,
     "user": {
      "displayName": "Anna Fritz",
      "photoUrl": "",
      "userId": "03073872417695927328"
     },
     "user_tz": 360
    },
    "id": "Fp6JvcssG4r0",
    "outputId": "5ecdbcba-535e-4198-ebd4-1b45184d9bb6"
   },
   "outputs": [
    {
     "data": {
      "text/plain": [
       "count      3057.000000\n",
       "mean      57549.060469\n",
       "std       13931.146493\n",
       "min       26621.941452\n",
       "25%       48439.901280\n",
       "50%       55748.513464\n",
       "75%       63993.126821\n",
       "max      138964.922115\n",
       "Name: Food_MedianFamilyIncome, dtype: float64"
      ]
     },
     "execution_count": 11,
     "metadata": {},
     "output_type": "execute_result"
    }
   ],
   "source": [
    "combined_df['Food_MedianFamilyIncome'].describe()"
   ]
  },
  {
   "cell_type": "code",
   "execution_count": 12,
   "metadata": {
    "colab": {
     "base_uri": "https://localhost:8080/",
     "height": 425
    },
    "executionInfo": {
     "elapsed": 1369,
     "status": "ok",
     "timestamp": 1605717053897,
     "user": {
      "displayName": "Anna Fritz",
      "photoUrl": "",
      "userId": "03073872417695927328"
     },
     "user_tz": 360
    },
    "id": "Y-BGN--2HfA1",
    "outputId": "1e9d4ebc-9b96-4a02-9ff5-dbfbc844be97"
   },
   "outputs": [
    {
     "data": {
      "text/html": [
       "<div>\n",
       "<style scoped>\n",
       "    .dataframe tbody tr th:only-of-type {\n",
       "        vertical-align: middle;\n",
       "    }\n",
       "\n",
       "    .dataframe tbody tr th {\n",
       "        vertical-align: top;\n",
       "    }\n",
       "\n",
       "    .dataframe thead th {\n",
       "        text-align: right;\n",
       "    }\n",
       "</style>\n",
       "<table border=\"1\" class=\"dataframe\">\n",
       "  <thead>\n",
       "    <tr style=\"text-align: right;\">\n",
       "      <th></th>\n",
       "      <th>Unnamed: 0</th>\n",
       "      <th>Educ_index</th>\n",
       "      <th>Educ_countyid</th>\n",
       "      <th>Educ_fips</th>\n",
       "      <th>Educ_gap_est</th>\n",
       "      <th>Educ_tot_asmts</th>\n",
       "      <th>Educ_cellcount</th>\n",
       "      <th>Educ_mn_asmts</th>\n",
       "      <th>Educ_mn_avg_ol</th>\n",
       "      <th>Educ_mn_grd_ol</th>\n",
       "      <th>...</th>\n",
       "      <th>Food_HUNVFlag</th>\n",
       "      <th>Food_LowIncomeTracts</th>\n",
       "      <th>Food_LA1and10</th>\n",
       "      <th>Food_LAhalfand10</th>\n",
       "      <th>Food_LA1and20</th>\n",
       "      <th>Food_LATracts_half</th>\n",
       "      <th>Food_LATracts1</th>\n",
       "      <th>Food_LATracts10</th>\n",
       "      <th>Food_LATracts20</th>\n",
       "      <th>Food_LATractsVehicle_20</th>\n",
       "    </tr>\n",
       "  </thead>\n",
       "  <tbody>\n",
       "    <tr>\n",
       "      <th>2779</th>\n",
       "      <td>2779</td>\n",
       "      <td>35030</td>\n",
       "      <td>51013</td>\n",
       "      <td>51</td>\n",
       "      <td>0</td>\n",
       "      <td>103175</td>\n",
       "      <td>64</td>\n",
       "      <td>1612.109375</td>\n",
       "      <td>6.523900</td>\n",
       "      <td>0.917928</td>\n",
       "      <td>...</td>\n",
       "      <td>0.201429</td>\n",
       "      <td>0.176254</td>\n",
       "      <td>0.046800</td>\n",
       "      <td>0.565789</td>\n",
       "      <td>0.046800</td>\n",
       "      <td>0.565789</td>\n",
       "      <td>0.046800</td>\n",
       "      <td>0.000000</td>\n",
       "      <td>0.0</td>\n",
       "      <td>0.201429</td>\n",
       "    </tr>\n",
       "    <tr>\n",
       "      <th>2825</th>\n",
       "      <td>2825</td>\n",
       "      <td>35629</td>\n",
       "      <td>51107</td>\n",
       "      <td>51</td>\n",
       "      <td>0</td>\n",
       "      <td>338648</td>\n",
       "      <td>64</td>\n",
       "      <td>5291.375000</td>\n",
       "      <td>6.634481</td>\n",
       "      <td>1.020663</td>\n",
       "      <td>...</td>\n",
       "      <td>0.036630</td>\n",
       "      <td>0.087096</td>\n",
       "      <td>0.480476</td>\n",
       "      <td>0.839887</td>\n",
       "      <td>0.480476</td>\n",
       "      <td>0.839887</td>\n",
       "      <td>0.480476</td>\n",
       "      <td>0.000000</td>\n",
       "      <td>0.0</td>\n",
       "      <td>0.036630</td>\n",
       "    </tr>\n",
       "    <tr>\n",
       "      <th>2801</th>\n",
       "      <td>2801</td>\n",
       "      <td>35305</td>\n",
       "      <td>51059</td>\n",
       "      <td>51</td>\n",
       "      <td>0</td>\n",
       "      <td>845147</td>\n",
       "      <td>64</td>\n",
       "      <td>13205.421875</td>\n",
       "      <td>6.584829</td>\n",
       "      <td>0.963106</td>\n",
       "      <td>...</td>\n",
       "      <td>0.066396</td>\n",
       "      <td>0.169805</td>\n",
       "      <td>0.391112</td>\n",
       "      <td>0.898489</td>\n",
       "      <td>0.391112</td>\n",
       "      <td>0.898489</td>\n",
       "      <td>0.391112</td>\n",
       "      <td>0.000000</td>\n",
       "      <td>0.0</td>\n",
       "      <td>0.066396</td>\n",
       "    </tr>\n",
       "    <tr>\n",
       "      <th>1170</th>\n",
       "      <td>1170</td>\n",
       "      <td>14987</td>\n",
       "      <td>24027</td>\n",
       "      <td>24</td>\n",
       "      <td>0</td>\n",
       "      <td>342476</td>\n",
       "      <td>88</td>\n",
       "      <td>3891.772727</td>\n",
       "      <td>7.227595</td>\n",
       "      <td>1.005730</td>\n",
       "      <td>...</td>\n",
       "      <td>0.093655</td>\n",
       "      <td>0.000000</td>\n",
       "      <td>0.441058</td>\n",
       "      <td>0.900378</td>\n",
       "      <td>0.441058</td>\n",
       "      <td>0.900378</td>\n",
       "      <td>0.441058</td>\n",
       "      <td>0.000000</td>\n",
       "      <td>0.0</td>\n",
       "      <td>0.093655</td>\n",
       "    </tr>\n",
       "    <tr>\n",
       "      <th>1744</th>\n",
       "      <td>1744</td>\n",
       "      <td>21821</td>\n",
       "      <td>34019</td>\n",
       "      <td>34</td>\n",
       "      <td>0</td>\n",
       "      <td>122870</td>\n",
       "      <td>72</td>\n",
       "      <td>1706.527778</td>\n",
       "      <td>7.545868</td>\n",
       "      <td>1.188554</td>\n",
       "      <td>...</td>\n",
       "      <td>0.123655</td>\n",
       "      <td>0.035692</td>\n",
       "      <td>0.278397</td>\n",
       "      <td>0.365706</td>\n",
       "      <td>0.278397</td>\n",
       "      <td>0.365706</td>\n",
       "      <td>0.278397</td>\n",
       "      <td>0.000000</td>\n",
       "      <td>0.0</td>\n",
       "      <td>0.123655</td>\n",
       "    </tr>\n",
       "    <tr>\n",
       "      <th>1752</th>\n",
       "      <td>1752</td>\n",
       "      <td>21936</td>\n",
       "      <td>34035</td>\n",
       "      <td>34</td>\n",
       "      <td>0</td>\n",
       "      <td>301665</td>\n",
       "      <td>72</td>\n",
       "      <td>4189.791667</td>\n",
       "      <td>7.361217</td>\n",
       "      <td>1.188984</td>\n",
       "      <td>...</td>\n",
       "      <td>0.237172</td>\n",
       "      <td>0.097726</td>\n",
       "      <td>0.606683</td>\n",
       "      <td>0.899247</td>\n",
       "      <td>0.606683</td>\n",
       "      <td>0.899247</td>\n",
       "      <td>0.606683</td>\n",
       "      <td>0.000000</td>\n",
       "      <td>0.0</td>\n",
       "      <td>0.237172</td>\n",
       "    </tr>\n",
       "    <tr>\n",
       "      <th>1748</th>\n",
       "      <td>1748</td>\n",
       "      <td>21879</td>\n",
       "      <td>34027</td>\n",
       "      <td>34</td>\n",
       "      <td>0</td>\n",
       "      <td>445170</td>\n",
       "      <td>72</td>\n",
       "      <td>6182.916667</td>\n",
       "      <td>7.489791</td>\n",
       "      <td>1.181863</td>\n",
       "      <td>...</td>\n",
       "      <td>0.193150</td>\n",
       "      <td>0.064685</td>\n",
       "      <td>0.667057</td>\n",
       "      <td>0.961353</td>\n",
       "      <td>0.667057</td>\n",
       "      <td>0.961353</td>\n",
       "      <td>0.667057</td>\n",
       "      <td>0.000000</td>\n",
       "      <td>0.0</td>\n",
       "      <td>0.193150</td>\n",
       "    </tr>\n",
       "    <tr>\n",
       "      <th>1172</th>\n",
       "      <td>1172</td>\n",
       "      <td>15016</td>\n",
       "      <td>24031</td>\n",
       "      <td>24</td>\n",
       "      <td>0</td>\n",
       "      <td>936461</td>\n",
       "      <td>88</td>\n",
       "      <td>10641.602273</td>\n",
       "      <td>6.561265</td>\n",
       "      <td>1.027317</td>\n",
       "      <td>...</td>\n",
       "      <td>0.169621</td>\n",
       "      <td>0.259676</td>\n",
       "      <td>0.427246</td>\n",
       "      <td>0.853971</td>\n",
       "      <td>0.427246</td>\n",
       "      <td>0.853971</td>\n",
       "      <td>0.427246</td>\n",
       "      <td>0.000000</td>\n",
       "      <td>0.0</td>\n",
       "      <td>0.169621</td>\n",
       "    </tr>\n",
       "    <tr>\n",
       "      <th>1770</th>\n",
       "      <td>1770</td>\n",
       "      <td>22180</td>\n",
       "      <td>35028</td>\n",
       "      <td>35</td>\n",
       "      <td>0</td>\n",
       "      <td>18559</td>\n",
       "      <td>71</td>\n",
       "      <td>261.394366</td>\n",
       "      <td>7.366961</td>\n",
       "      <td>1.208370</td>\n",
       "      <td>...</td>\n",
       "      <td>0.000000</td>\n",
       "      <td>0.000000</td>\n",
       "      <td>1.000000</td>\n",
       "      <td>1.000000</td>\n",
       "      <td>1.000000</td>\n",
       "      <td>1.000000</td>\n",
       "      <td>1.000000</td>\n",
       "      <td>0.000000</td>\n",
       "      <td>0.0</td>\n",
       "      <td>0.000000</td>\n",
       "    </tr>\n",
       "    <tr>\n",
       "      <th>178</th>\n",
       "      <td>178</td>\n",
       "      <td>2640</td>\n",
       "      <td>6041</td>\n",
       "      <td>6</td>\n",
       "      <td>0</td>\n",
       "      <td>147511</td>\n",
       "      <td>63</td>\n",
       "      <td>2341.444444</td>\n",
       "      <td>6.460801</td>\n",
       "      <td>1.060692</td>\n",
       "      <td>...</td>\n",
       "      <td>0.091419</td>\n",
       "      <td>0.163996</td>\n",
       "      <td>0.330056</td>\n",
       "      <td>0.839843</td>\n",
       "      <td>0.317275</td>\n",
       "      <td>0.827062</td>\n",
       "      <td>0.317275</td>\n",
       "      <td>0.012781</td>\n",
       "      <td>0.0</td>\n",
       "      <td>0.091419</td>\n",
       "    </tr>\n",
       "  </tbody>\n",
       "</table>\n",
       "<p>10 rows × 170 columns</p>\n",
       "</div>"
      ],
      "text/plain": [
       "      Unnamed: 0  Educ_index  Educ_countyid  Educ_fips  Educ_gap_est  \\\n",
       "2779        2779       35030          51013         51             0   \n",
       "2825        2825       35629          51107         51             0   \n",
       "2801        2801       35305          51059         51             0   \n",
       "1170        1170       14987          24027         24             0   \n",
       "1744        1744       21821          34019         34             0   \n",
       "1752        1752       21936          34035         34             0   \n",
       "1748        1748       21879          34027         34             0   \n",
       "1172        1172       15016          24031         24             0   \n",
       "1770        1770       22180          35028         35             0   \n",
       "178          178        2640           6041          6             0   \n",
       "\n",
       "      Educ_tot_asmts  Educ_cellcount  Educ_mn_asmts  Educ_mn_avg_ol  \\\n",
       "2779          103175              64    1612.109375        6.523900   \n",
       "2825          338648              64    5291.375000        6.634481   \n",
       "2801          845147              64   13205.421875        6.584829   \n",
       "1170          342476              88    3891.772727        7.227595   \n",
       "1744          122870              72    1706.527778        7.545868   \n",
       "1752          301665              72    4189.791667        7.361217   \n",
       "1748          445170              72    6182.916667        7.489791   \n",
       "1172          936461              88   10641.602273        6.561265   \n",
       "1770           18559              71     261.394366        7.366961   \n",
       "178           147511              63    2341.444444        6.460801   \n",
       "\n",
       "      Educ_mn_grd_ol  ...  Food_HUNVFlag  Food_LowIncomeTracts  Food_LA1and10  \\\n",
       "2779        0.917928  ...       0.201429              0.176254       0.046800   \n",
       "2825        1.020663  ...       0.036630              0.087096       0.480476   \n",
       "2801        0.963106  ...       0.066396              0.169805       0.391112   \n",
       "1170        1.005730  ...       0.093655              0.000000       0.441058   \n",
       "1744        1.188554  ...       0.123655              0.035692       0.278397   \n",
       "1752        1.188984  ...       0.237172              0.097726       0.606683   \n",
       "1748        1.181863  ...       0.193150              0.064685       0.667057   \n",
       "1172        1.027317  ...       0.169621              0.259676       0.427246   \n",
       "1770        1.208370  ...       0.000000              0.000000       1.000000   \n",
       "178         1.060692  ...       0.091419              0.163996       0.330056   \n",
       "\n",
       "      Food_LAhalfand10  Food_LA1and20  Food_LATracts_half  Food_LATracts1  \\\n",
       "2779          0.565789       0.046800            0.565789        0.046800   \n",
       "2825          0.839887       0.480476            0.839887        0.480476   \n",
       "2801          0.898489       0.391112            0.898489        0.391112   \n",
       "1170          0.900378       0.441058            0.900378        0.441058   \n",
       "1744          0.365706       0.278397            0.365706        0.278397   \n",
       "1752          0.899247       0.606683            0.899247        0.606683   \n",
       "1748          0.961353       0.667057            0.961353        0.667057   \n",
       "1172          0.853971       0.427246            0.853971        0.427246   \n",
       "1770          1.000000       1.000000            1.000000        1.000000   \n",
       "178           0.839843       0.317275            0.827062        0.317275   \n",
       "\n",
       "      Food_LATracts10  Food_LATracts20  Food_LATractsVehicle_20  \n",
       "2779         0.000000              0.0                 0.201429  \n",
       "2825         0.000000              0.0                 0.036630  \n",
       "2801         0.000000              0.0                 0.066396  \n",
       "1170         0.000000              0.0                 0.093655  \n",
       "1744         0.000000              0.0                 0.123655  \n",
       "1752         0.000000              0.0                 0.237172  \n",
       "1748         0.000000              0.0                 0.193150  \n",
       "1172         0.000000              0.0                 0.169621  \n",
       "1770         0.000000              0.0                 0.000000  \n",
       "178          0.012781              0.0                 0.091419  \n",
       "\n",
       "[10 rows x 170 columns]"
      ]
     },
     "execution_count": 12,
     "metadata": {},
     "output_type": "execute_result"
    }
   ],
   "source": [
    "combined_df.sort_values(\"Food_MedianFamilyIncome\", ascending=False).head(10)"
   ]
  },
  {
   "cell_type": "markdown",
   "metadata": {
    "id": "zEaz5U1FTk_k"
   },
   "source": [
    "## Feature Engineering\n",
    "\n",
    "We needed to normalize the Food_PovertyRate and Food_normalized_income to force the values between 0 and 1. This was to ensure the regression would work propertly. We saw Food_PovertyRate ranged from 0-100 so we normalized it by dividing by 100. We normalized Food_MedianFamilyIncome by using the min max scaler from sklearn."
   ]
  },
  {
   "cell_type": "code",
   "execution_count": 13,
   "metadata": {
    "id": "ab6p2U1kI96O"
   },
   "outputs": [],
   "source": [
    "combined_df['Food_PovertyRate'] = combined_df['Food_PovertyRate']/100 "
   ]
  },
  {
   "cell_type": "code",
   "execution_count": 14,
   "metadata": {
    "colab": {
     "base_uri": "https://localhost:8080/"
    },
    "executionInfo": {
     "elapsed": 1539,
     "status": "ok",
     "timestamp": 1605717054079,
     "user": {
      "displayName": "Anna Fritz",
      "photoUrl": "",
      "userId": "03073872417695927328"
     },
     "user_tz": 360
    },
    "id": "7R0JwA2gJIE8",
    "outputId": "53d46d63-073a-428b-f26a-b78935624390"
   },
   "outputs": [
    {
     "data": {
      "text/plain": [
       "count    3057.000000\n",
       "mean        0.275292\n",
       "std         0.124005\n",
       "min         0.000000\n",
       "25%         0.194208\n",
       "50%         0.259265\n",
       "75%         0.332653\n",
       "max         1.000000\n",
       "Name: Food_normalized_income, dtype: float64"
      ]
     },
     "execution_count": 14,
     "metadata": {},
     "output_type": "execute_result"
    }
   ],
   "source": [
    "from sklearn.preprocessing import MinMaxScaler\n",
    "\n",
    "income_scaler = MinMaxScaler()\n",
    "combined_df['Food_normalized_income'] = income_scaler.fit_transform(np.array(combined_df['Food_MedianFamilyIncome']).reshape(-1, 1))\n",
    "\n",
    "combined_df['Food_normalized_income'].describe()"
   ]
  },
  {
   "cell_type": "markdown",
   "metadata": {
    "id": "OaQwTRGnTqjv"
   },
   "source": [
    "We made a new dataframe that consisted of the features we thought would help us predict average scores."
   ]
  },
  {
   "cell_type": "code",
   "execution_count": 15,
   "metadata": {
    "colab": {
     "base_uri": "https://localhost:8080/",
     "height": 419
    },
    "executionInfo": {
     "elapsed": 1526,
     "status": "ok",
     "timestamp": 1605717054086,
     "user": {
      "displayName": "Anna Fritz",
      "photoUrl": "",
      "userId": "03073872417695927328"
     },
     "user_tz": 360
    },
    "id": "-2C0FayIKBx3",
    "outputId": "98684cc0-f2aa-4abe-ac53-e361c07fd97e"
   },
   "outputs": [
    {
     "data": {
      "text/html": [
       "<div>\n",
       "<style scoped>\n",
       "    .dataframe tbody tr th:only-of-type {\n",
       "        vertical-align: middle;\n",
       "    }\n",
       "\n",
       "    .dataframe tbody tr th {\n",
       "        vertical-align: top;\n",
       "    }\n",
       "\n",
       "    .dataframe thead th {\n",
       "        text-align: right;\n",
       "    }\n",
       "</style>\n",
       "<table border=\"1\" class=\"dataframe\">\n",
       "  <thead>\n",
       "    <tr style=\"text-align: right;\">\n",
       "      <th></th>\n",
       "      <th>mean_scores</th>\n",
       "      <th>Food_Scaled_Median_Income</th>\n",
       "      <th>kids_half</th>\n",
       "      <th>kids1</th>\n",
       "      <th>kids10</th>\n",
       "      <th>kids20</th>\n",
       "    </tr>\n",
       "  </thead>\n",
       "  <tbody>\n",
       "    <tr>\n",
       "      <th>0</th>\n",
       "      <td>5.636815</td>\n",
       "      <td>0.333942</td>\n",
       "      <td>0.239710</td>\n",
       "      <td>0.178144</td>\n",
       "      <td>0.032195</td>\n",
       "      <td>0.000000</td>\n",
       "    </tr>\n",
       "    <tr>\n",
       "      <th>1</th>\n",
       "      <td>5.428993</td>\n",
       "      <td>0.318511</td>\n",
       "      <td>0.209114</td>\n",
       "      <td>0.167168</td>\n",
       "      <td>0.003452</td>\n",
       "      <td>0.000000</td>\n",
       "    </tr>\n",
       "    <tr>\n",
       "      <th>2</th>\n",
       "      <td>3.692509</td>\n",
       "      <td>0.153948</td>\n",
       "      <td>0.178756</td>\n",
       "      <td>0.136675</td>\n",
       "      <td>0.032128</td>\n",
       "      <td>0.000000</td>\n",
       "    </tr>\n",
       "    <tr>\n",
       "      <th>3</th>\n",
       "      <td>4.235791</td>\n",
       "      <td>0.139303</td>\n",
       "      <td>0.216634</td>\n",
       "      <td>0.185574</td>\n",
       "      <td>0.003211</td>\n",
       "      <td>0.000000</td>\n",
       "    </tr>\n",
       "    <tr>\n",
       "      <th>4</th>\n",
       "      <td>4.689641</td>\n",
       "      <td>0.235421</td>\n",
       "      <td>0.238900</td>\n",
       "      <td>0.225577</td>\n",
       "      <td>0.008306</td>\n",
       "      <td>0.000000</td>\n",
       "    </tr>\n",
       "    <tr>\n",
       "      <th>...</th>\n",
       "      <td>...</td>\n",
       "      <td>...</td>\n",
       "      <td>...</td>\n",
       "      <td>...</td>\n",
       "      <td>...</td>\n",
       "      <td>...</td>\n",
       "    </tr>\n",
       "    <tr>\n",
       "      <th>3052</th>\n",
       "      <td>5.529081</td>\n",
       "      <td>0.477160</td>\n",
       "      <td>0.218997</td>\n",
       "      <td>0.143338</td>\n",
       "      <td>0.014986</td>\n",
       "      <td>0.012046</td>\n",
       "    </tr>\n",
       "    <tr>\n",
       "      <th>3053</th>\n",
       "      <td>6.700046</td>\n",
       "      <td>0.556587</td>\n",
       "      <td>0.165874</td>\n",
       "      <td>0.134248</td>\n",
       "      <td>0.015115</td>\n",
       "      <td>0.004407</td>\n",
       "    </tr>\n",
       "    <tr>\n",
       "      <th>3054</th>\n",
       "      <td>6.086742</td>\n",
       "      <td>0.344458</td>\n",
       "      <td>0.260094</td>\n",
       "      <td>0.178910</td>\n",
       "      <td>0.009708</td>\n",
       "      <td>0.000161</td>\n",
       "    </tr>\n",
       "    <tr>\n",
       "      <th>3055</th>\n",
       "      <td>6.508509</td>\n",
       "      <td>0.320228</td>\n",
       "      <td>0.150720</td>\n",
       "      <td>0.087367</td>\n",
       "      <td>0.020772</td>\n",
       "      <td>0.016893</td>\n",
       "    </tr>\n",
       "    <tr>\n",
       "      <th>3056</th>\n",
       "      <td>5.917276</td>\n",
       "      <td>0.428213</td>\n",
       "      <td>0.154122</td>\n",
       "      <td>0.102037</td>\n",
       "      <td>0.020267</td>\n",
       "      <td>0.005607</td>\n",
       "    </tr>\n",
       "  </tbody>\n",
       "</table>\n",
       "<p>3057 rows × 6 columns</p>\n",
       "</div>"
      ],
      "text/plain": [
       "      mean_scores  Food_Scaled_Median_Income  kids_half     kids1    kids10  \\\n",
       "0        5.636815                   0.333942   0.239710  0.178144  0.032195   \n",
       "1        5.428993                   0.318511   0.209114  0.167168  0.003452   \n",
       "2        3.692509                   0.153948   0.178756  0.136675  0.032128   \n",
       "3        4.235791                   0.139303   0.216634  0.185574  0.003211   \n",
       "4        4.689641                   0.235421   0.238900  0.225577  0.008306   \n",
       "...           ...                        ...        ...       ...       ...   \n",
       "3052     5.529081                   0.477160   0.218997  0.143338  0.014986   \n",
       "3053     6.700046                   0.556587   0.165874  0.134248  0.015115   \n",
       "3054     6.086742                   0.344458   0.260094  0.178910  0.009708   \n",
       "3055     6.508509                   0.320228   0.150720  0.087367  0.020772   \n",
       "3056     5.917276                   0.428213   0.154122  0.102037  0.020267   \n",
       "\n",
       "        kids20  \n",
       "0     0.000000  \n",
       "1     0.000000  \n",
       "2     0.000000  \n",
       "3     0.000000  \n",
       "4     0.000000  \n",
       "...        ...  \n",
       "3052  0.012046  \n",
       "3053  0.004407  \n",
       "3054  0.000161  \n",
       "3055  0.016893  \n",
       "3056  0.005607  \n",
       "\n",
       "[3057 rows x 6 columns]"
      ]
     },
     "execution_count": 15,
     "metadata": {},
     "output_type": "execute_result"
    }
   ],
   "source": [
    "regression_df['mean_scores'] = combined_df['Educ_mn_avg_ol']\n",
    "regression_df['Food_Scaled_Median_Income'] = combined_df['Food_normalized_income']\n",
    "regression_df['kids_half'] = combined_df['Food_lakidshalfshare']\n",
    "regression_df['kids1'] = combined_df['Food_lakids1share']\n",
    "regression_df['kids10'] = combined_df['Food_lakids10share']\n",
    "regression_df['kids20'] = combined_df['Food_lakids20share']\n",
    "regression_df"
   ]
  },
  {
   "cell_type": "code",
   "execution_count": 16,
   "metadata": {
    "id": "-TGheqbJA39z"
   },
   "outputs": [],
   "source": [
    "import seaborn as sns"
   ]
  },
  {
   "cell_type": "code",
   "execution_count": 17,
   "metadata": {
    "id": "uOgadKYWBiqw"
   },
   "outputs": [],
   "source": [
    "data_corr = regression_df.corr()"
   ]
  },
  {
   "cell_type": "markdown",
   "metadata": {
    "id": "cuJFryQWTtUr"
   },
   "source": [
    "To better understand the relationship between features, we used the seaborn heatmap. We saw that the mean scores correlates most closely with median family income."
   ]
  },
  {
   "cell_type": "code",
   "execution_count": 18,
   "metadata": {
    "colab": {
     "base_uri": "https://localhost:8080/",
     "height": 421
    },
    "executionInfo": {
     "elapsed": 1942,
     "status": "ok",
     "timestamp": 1605717054524,
     "user": {
      "displayName": "Anna Fritz",
      "photoUrl": "",
      "userId": "03073872417695927328"
     },
     "user_tz": 360
    },
    "id": "y7sVX7mu_8JF",
    "outputId": "d29a7c8c-f23b-47e1-a7e8-38ce47fee9ea"
   },
   "outputs": [
    {
     "data": {
      "text/plain": [
       "<AxesSubplot:>"
      ]
     },
     "execution_count": 18,
     "metadata": {},
     "output_type": "execute_result"
    },
    {
     "data": {
      "image/png": "[encoded data removed]",
      "text/plain": [
       "<Figure size 432x288 with 2 Axes>"
      ]
     },
     "metadata": {
      "needs_background": "light"
     },
     "output_type": "display_data"
    }
   ],
   "source": [
    "sns.heatmap(data_corr, vmin=-1, vmax=1, cmap=\"viridis\", annot=True, linewidth=0.1)"
   ]
  },
  {
   "cell_type": "markdown",
   "metadata": {
    "id": "lu1dcU5YTwlx"
   },
   "source": [
    "We used a histogram to visualize the distribution of scores before regressions."
   ]
  },
  {
   "cell_type": "code",
   "execution_count": 19,
   "metadata": {
    "colab": {
     "base_uri": "https://localhost:8080/",
     "height": 296
    },
    "executionInfo": {
     "elapsed": 2233,
     "status": "ok",
     "timestamp": 1605717054832,
     "user": {
      "displayName": "Anna Fritz",
      "photoUrl": "",
      "userId": "03073872417695927328"
     },
     "user_tz": 360
    },
    "id": "YSFjOX_JFZUy",
    "outputId": "30336900-2e7d-4e68-edfd-56cbeaa1082b"
   },
   "outputs": [
    {
     "data": {
      "text/plain": [
       "<AxesSubplot:xlabel='mean_scores', ylabel='Count'>"
      ]
     },
     "execution_count": 19,
     "metadata": {},
     "output_type": "execute_result"
    },
    {
     "data": {
      "image/png": "[encoded data removed]",
      "text/plain": [
       "<Figure size 432x288 with 1 Axes>"
      ]
     },
     "metadata": {
      "needs_background": "light"
     },
     "output_type": "display_data"
    }
   ],
   "source": [
    "sns.histplot(regression_df.mean_scores, color='skyblue')"
   ]
  },
  {
   "cell_type": "code",
   "execution_count": 20,
   "metadata": {
    "id": "IOMvuQJuDbTG"
   },
   "outputs": [],
   "source": [
    "X = regression_df.drop(['mean_scores'], axis = 1)\n",
    "y = regression_df['mean_scores']"
   ]
  },
  {
   "cell_type": "code",
   "execution_count": 21,
   "metadata": {
    "colab": {
     "base_uri": "https://localhost:8080/"
    },
    "executionInfo": {
     "elapsed": 2242,
     "status": "ok",
     "timestamp": 1605717054853,
     "user": {
      "displayName": "Anna Fritz",
      "photoUrl": "",
      "userId": "03073872417695927328"
     },
     "user_tz": 360
    },
    "id": "GjFBtbLKC69y",
    "outputId": "57be1897-c485-4398-89a4-cea1c7bc3f3c"
   },
   "outputs": [
    {
     "data": {
      "text/plain": [
       "6.363935225091102"
      ]
     },
     "execution_count": 21,
     "metadata": {},
     "output_type": "execute_result"
    }
   ],
   "source": [
    "y.iloc[876]"
   ]
  },
  {
   "cell_type": "markdown",
   "metadata": {
    "id": "L9DfFtWlI0q1"
   },
   "source": [
    "## Models\n",
    "\n",
    "We used 4 different regression models to try and predict the mean test scores based on the previously selected features. In order these were, Linear Regression, Ridge Regression, Random Forest, and Gradient Boosting. Of these, Random Forest and Gradient Boosting had the best performance with an average r^2 value of around 0.3 and 0.35 respectively. \n",
    "\n",
    "For each model we used KFold Cross validation with 10 splits to train and test our models. The r^2 score of each fold is printed below the respective model.\n",
    "\n"
   ]
  },
  {
   "cell_type": "markdown",
   "metadata": {
    "id": "EfZqRxE8KoPB"
   },
   "source": [
    "### Helper Prediction Method\n",
    "\n",
    "To aid in both our understanding, and for illustrative purposes for our presentation we created a method to predict a specified county (e.g. for Lawrence, we checked Douglas County)"
   ]
  },
  {
   "cell_type": "code",
   "execution_count": 22,
   "metadata": {
    "id": "lZBXmHOmKh40"
   },
   "outputs": [],
   "source": [
    "def predict_county(county, state, model):\n",
    "  idx = combined_df.index[(combined_df['County'] == county) & (combined_df['State'] == state)][0]\n",
    "  return model.predict([X.iloc[idx]])"
   ]
  },
  {
   "cell_type": "markdown",
   "metadata": {
    "id": "0m1S-q1XKuxd"
   },
   "source": [
    "### Linear Regression\n",
    "\n",
    "The first model we trained was Linear Regression. Due to some of the high correlation we saw earlier in the covariance matrix we were hopeful for the performance for Linear Regression. As you can see below, the performance isn't terrible, but it's not great either with an average r^2 score around 0.25. The negative r^2 value for the third fold was concerning as we're not exactly sure what that implies other than a really bad fit, but as you'll see in later models, that seems to be a common trend."
   ]
  },
  {
   "cell_type": "code",
   "execution_count": 23,
   "metadata": {
    "colab": {
     "base_uri": "https://localhost:8080/"
    },
    "executionInfo": {
     "elapsed": 2233,
     "status": "ok",
     "timestamp": 1605717054857,
     "user": {
      "displayName": "Anna Fritz",
      "photoUrl": "",
      "userId": "03073872417695927328"
     },
     "user_tz": 360
    },
    "id": "CaabeugoEK29",
    "outputId": "131834e2-0098-4cfc-861d-ac270c8d1944"
   },
   "outputs": [
    {
     "name": "stdout",
     "output_type": "stream",
     "text": [
      "1 0.14681080891813514\n",
      "2 0.42009828218416045\n",
      "3 -0.21865879593250592\n",
      "4 0.3050787083656694\n",
      "5 0.5017120581538841\n",
      "6 0.2493337583537646\n",
      "7 0.23619234719201299\n",
      "8 0.44020065142912146\n",
      "9 0.36687429425698503\n",
      "10 0.3804282718489286\n"
     ]
    },
    {
     "data": {
      "text/plain": [
       "array([5.89397114])"
      ]
     },
     "execution_count": 23,
     "metadata": {},
     "output_type": "execute_result"
    }
   ],
   "source": [
    "from sklearn.linear_model import LinearRegression\n",
    "from sklearn.model_selection import KFold\n",
    "\n",
    "kf = KFold(n_splits=10)\n",
    "\n",
    "fold = 1\n",
    "for train_idx, test_idx in kf.split(X):\n",
    "    X_train, X_test = X.iloc[train_idx], X.iloc[test_idx]\n",
    "    y_train, y_test = y.iloc[train_idx], y.iloc[test_idx]\n",
    "\n",
    "    reg = LinearRegression().fit(X_train, y_train)\n",
    "    \n",
    "    print(fold, reg.score(X_test, y_test))\n",
    "    fold += 1\n",
    "\n",
    "predict_county('Douglas', 'KS', reg)"
   ]
  },
  {
   "cell_type": "markdown",
   "metadata": {
    "id": "PJZN7VbqNig9"
   },
   "source": [
    "Comparing this historgram of our predictions with the overall distribution above we can see that Linear Regression is leaving out some of the lower outliers and predicting some higher scores than are in the original dataset."
   ]
  },
  {
   "cell_type": "code",
   "execution_count": 24,
   "metadata": {
    "colab": {
     "base_uri": "https://localhost:8080/",
     "height": 283
    },
    "executionInfo": {
     "elapsed": 2626,
     "status": "ok",
     "timestamp": 1605717055268,
     "user": {
      "displayName": "Anna Fritz",
      "photoUrl": "",
      "userId": "03073872417695927328"
     },
     "user_tz": 360
    },
    "id": "QVOHiZFiGHdz",
    "outputId": "6ce6baa8-58e1-43c6-e7ac-9788a9442b2e"
   },
   "outputs": [
    {
     "data": {
      "text/plain": [
       "<AxesSubplot:ylabel='Count'>"
      ]
     },
     "execution_count": 24,
     "metadata": {},
     "output_type": "execute_result"
    },
    {
     "data": {
      "image/png": "[encoded data removed]",
      "text/plain": [
       "<Figure size 432x288 with 1 Axes>"
      ]
     },
     "metadata": {
      "needs_background": "light"
     },
     "output_type": "display_data"
    }
   ],
   "source": [
    "sns.histplot(reg.predict(X))"
   ]
  },
  {
   "cell_type": "markdown",
   "metadata": {
    "id": "p28GyHScN7zK"
   },
   "source": [
    "### Ridge Regression\n",
    "\n",
    "Again, based on our intution that Linear Regression should perform pretty well due to the covariance matrix, we next tried Ridge Regression since it's based on Linear Regression. However, the performance wasn't that much better than standard Linear Regression with an average r^2 of around 0.26."
   ]
  },
  {
   "cell_type": "code",
   "execution_count": 25,
   "metadata": {
    "colab": {
     "base_uri": "https://localhost:8080/"
    },
    "executionInfo": {
     "elapsed": 2749,
     "status": "ok",
     "timestamp": 1605717055400,
     "user": {
      "displayName": "Anna Fritz",
      "photoUrl": "",
      "userId": "03073872417695927328"
     },
     "user_tz": 360
    },
    "id": "mU-DpMnLIBmT",
    "outputId": "5fbca6ba-0fa2-4a3d-f6a3-b01bd177a50d"
   },
   "outputs": [
    {
     "name": "stdout",
     "output_type": "stream",
     "text": [
      "1 0.1300891775506886\n",
      "2 0.41886088266282406\n",
      "3 -0.2053160427116203\n",
      "4 0.2788587386206537\n",
      "5 0.4859238975679826\n",
      "6 0.23456230177444304\n",
      "7 0.2279942701422788\n",
      "8 0.42589058564843496\n",
      "9 0.3399647378529822\n",
      "10 0.4120909298040978\n"
     ]
    },
    {
     "data": {
      "text/plain": [
       "array([5.85344637])"
      ]
     },
     "execution_count": 25,
     "metadata": {},
     "output_type": "execute_result"
    }
   ],
   "source": [
    "from sklearn.linear_model import Ridge\n",
    "from sklearn.model_selection import KFold\n",
    "\n",
    "kf = KFold(n_splits=10)\n",
    "\n",
    "fold = 1\n",
    "for train_idx, test_idx in kf.split(X):\n",
    "    X_train, X_test = X.iloc[train_idx], X.iloc[test_idx]\n",
    "    y_train, y_test = y.iloc[train_idx], y.iloc[test_idx]\n",
    "\n",
    "    reg = Ridge().fit(X_train, y_train)\n",
    "    \n",
    "    print(fold, reg.score(X_test, y_test))\n",
    "    fold += 1\n",
    "\n",
    "predict_county('Douglas', 'KS', reg)"
   ]
  },
  {
   "cell_type": "markdown",
   "metadata": {
    "id": "x05TQdd3PW6U"
   },
   "source": [
    "Additionally, as you can see in the prediction distribution, Ridge Regression has an even larger positive shift, ignoring even more of the lower score outliers."
   ]
  },
  {
   "cell_type": "code",
   "execution_count": 26,
   "metadata": {
    "colab": {
     "base_uri": "https://localhost:8080/",
     "height": 282
    },
    "executionInfo": {
     "elapsed": 3044,
     "status": "ok",
     "timestamp": 1605717055712,
     "user": {
      "displayName": "Anna Fritz",
      "photoUrl": "",
      "userId": "03073872417695927328"
     },
     "user_tz": 360
    },
    "id": "l--peRDcNZMG",
    "outputId": "613b3328-e1cd-4841-822e-9d09345c8804"
   },
   "outputs": [
    {
     "data": {
      "text/plain": [
       "<AxesSubplot:ylabel='Count'>"
      ]
     },
     "execution_count": 26,
     "metadata": {},
     "output_type": "execute_result"
    },
    {
     "data": {
      "image/png": "[encoded data removed]",
      "text/plain": [
       "<Figure size 432x288 with 1 Axes>"
      ]
     },
     "metadata": {
      "needs_background": "light"
     },
     "output_type": "display_data"
    }
   ],
   "source": [
    "sns.histplot(reg.predict(X))"
   ]
  },
  {
   "cell_type": "markdown",
   "metadata": {
    "id": "iSvhV7ZaPoxr"
   },
   "source": [
    "### Random Forest Regression\n",
    "\n",
    "Next, we tried Random Forest. The default value of 10 estimators seemed to not be able to account for all the varation in our data and thus we selected 100 for the number of estimators due to it being a good balance between performance and execution time. Overall, Random Forest performed a bit better than Linear Regression and Ridge Regression with an average r^2 value of around 0.30."
   ]
  },
  {
   "cell_type": "code",
   "execution_count": 27,
   "metadata": {
    "id": "h_u0lur1I_qP"
   },
   "outputs": [],
   "source": [
    "from sklearn import datasets, linear_model, metrics"
   ]
  },
  {
   "cell_type": "code",
   "execution_count": 28,
   "metadata": {
    "colab": {
     "base_uri": "https://localhost:8080/"
    },
    "executionInfo": {
     "elapsed": 14651,
     "status": "ok",
     "timestamp": 1605717067330,
     "user": {
      "displayName": "Anna Fritz",
      "photoUrl": "",
      "userId": "03073872417695927328"
     },
     "user_tz": 360
    },
    "id": "dJmd-eCmIgEU",
    "outputId": "1af9bb45-847a-4f7c-e91a-dba3116025b0"
   },
   "outputs": [
    {
     "name": "stdout",
     "output_type": "stream",
     "text": [
      "0.25335427616401873\n",
      "0.34583319294868675\n",
      "-0.05642251620301564\n",
      "0.19834045769561304\n",
      "0.5825250580663013\n",
      "0.2653482982450259\n",
      "0.22646280803075625\n",
      "0.4354651547877826\n",
      "0.2607170523925201\n",
      "0.3641892304013956\n"
     ]
    },
    {
     "data": {
      "text/plain": [
       "array([6.10994114])"
      ]
     },
     "execution_count": 28,
     "metadata": {},
     "output_type": "execute_result"
    }
   ],
   "source": [
    "from sklearn.ensemble import RandomForestRegressor\n",
    "kf = KFold(n_splits=10)\n",
    "\n",
    "for train_idx, test_idx in kf.split(X):\n",
    "    X_train, X_test = X.iloc[train_idx], X.iloc[test_idx]\n",
    "    y_train, y_test = y.iloc[train_idx], y.iloc[test_idx]\n",
    "\n",
    "    regressor = RandomForestRegressor(n_estimators = 100, random_state = 0)\n",
    "    regressor.fit(X_train, y_train)\n",
    "\n",
    "    pred = regressor.predict(X_test)\n",
    "    print(metrics.r2_score(y_test, pred))\n",
    "\n",
    "predict_county('Douglas', 'KS', regressor)"
   ]
  },
  {
   "cell_type": "markdown",
   "metadata": {
    "id": "XnMEQpt8Qwn3"
   },
   "source": [
    "Moreover, Random Forest accounted for much more of the variation in our dataset, covering more of the extreme outliers than either of the previous models had."
   ]
  },
  {
   "cell_type": "code",
   "execution_count": 29,
   "metadata": {
    "colab": {
     "base_uri": "https://localhost:8080/",
     "height": 282
    },
    "executionInfo": {
     "elapsed": 14894,
     "status": "ok",
     "timestamp": 1605717067588,
     "user": {
      "displayName": "Anna Fritz",
      "photoUrl": "",
      "userId": "03073872417695927328"
     },
     "user_tz": 360
    },
    "id": "4Xc3jDHxQxQd",
    "outputId": "dd09c6c3-e4d6-40a6-e9e8-3940593a58b1"
   },
   "outputs": [
    {
     "data": {
      "text/plain": [
       "<AxesSubplot:ylabel='Count'>"
      ]
     },
     "execution_count": 29,
     "metadata": {},
     "output_type": "execute_result"
    },
    {
     "data": {
      "image/png": "[encoded data removed]",
      "text/plain": [
       "<Figure size 432x288 with 1 Axes>"
      ]
     },
     "metadata": {
      "needs_background": "light"
     },
     "output_type": "display_data"
    }
   ],
   "source": [
    "sns.histplot(regressor.predict(X))"
   ]
  },
  {
   "cell_type": "markdown",
   "metadata": {
    "id": "oL9eOUuOPyTy"
   },
   "source": [
    "### Gradient Boosting\n",
    "\n",
    "Finally, we tried Gradient Boosting through the use of XGBoost. We used the standard regression metric of `reg:squarederror`, but we had to manually specify it due to a change in the XGBoost library. Overall, this model performed the best with an average r^2 score around 0.35. "
   ]
  },
  {
   "cell_type": "code",
   "execution_count": 30,
   "metadata": {
    "colab": {
     "base_uri": "https://localhost:8080/"
    },
    "executionInfo": {
     "elapsed": 16776,
     "status": "ok",
     "timestamp": 1605717069487,
     "user": {
      "displayName": "Anna Fritz",
      "photoUrl": "",
      "userId": "03073872417695927328"
     },
     "user_tz": 360
    },
    "id": "k0PaMbdSKcLK",
    "outputId": "fec216ac-3d5e-48d3-8db3-8533296d0b62"
   },
   "outputs": [
    {
     "name": "stdout",
     "output_type": "stream",
     "text": [
      "0.232734531078706\n",
      "0.28101919328792657\n",
      "-0.16880492599981212\n",
      "0.1391284493986613\n",
      "0.533397580373065\n",
      "0.18555519896774986\n",
      "0.20722653556424175\n",
      "0.36954852724293386\n",
      "0.20094217171982576\n",
      "0.22883099272455265\n"
     ]
    },
    {
     "data": {
      "text/plain": [
       "6.023418"
      ]
     },
     "execution_count": 30,
     "metadata": {},
     "output_type": "execute_result"
    }
   ],
   "source": [
    "import xgboost\n",
    "from sklearn.model_selection import KFold\n",
    "from sklearn.metrics import mean_squared_error\n",
    "\n",
    "import warnings\n",
    "warnings.simplefilter('ignore')\n",
    "\n",
    "kf = KFold(n_splits=10)\n",
    "\n",
    "fold = 1\n",
    "for train_idx, test_idx in kf.split(X):\n",
    "    X_train, X_test = X.iloc[train_idx], X.iloc[test_idx]\n",
    "    y_train, y_test = y.iloc[train_idx], y.iloc[test_idx]\n",
    "\n",
    "    model = xgboost.XGBRegressor(objective ='reg:squarederror')\n",
    "    model.fit(X_train, y_train)\n",
    "\n",
    "    Y_pred = model.predict(X_test)\n",
    "    print(metrics.r2_score(y_test, Y_pred))\n",
    "\n",
    "warnings.simplefilter('default')\n",
    "\n",
    "model.predict(X)[876]"
   ]
  },
  {
   "cell_type": "markdown",
   "metadata": {
    "id": "CnOskhmuRDES"
   },
   "source": [
    "Again, this distribution looks much more simlar to the actual distribution however it's missing some of the lower outliers that Random Forest picked up."
   ]
  },
  {
   "cell_type": "code",
   "execution_count": 31,
   "metadata": {
    "colab": {
     "base_uri": "https://localhost:8080/",
     "height": 286
    },
    "executionInfo": {
     "elapsed": 17010,
     "status": "ok",
     "timestamp": 1605717069737,
     "user": {
      "displayName": "Anna Fritz",
      "photoUrl": "",
      "userId": "03073872417695927328"
     },
     "user_tz": 360
    },
    "id": "gDLAT0fLRD5L",
    "outputId": "7048b527-b991-4466-c445-53767a8475fd"
   },
   "outputs": [
    {
     "data": {
      "text/plain": [
       "<AxesSubplot:ylabel='Count'>"
      ]
     },
     "execution_count": 31,
     "metadata": {},
     "output_type": "execute_result"
    },
    {
     "data": {
      "image/png": "[encoded data removed]",
      "text/plain": [
       "<Figure size 432x288 with 1 Axes>"
      ]
     },
     "metadata": {
      "needs_background": "light"
     },
     "output_type": "display_data"
    }
   ],
   "source": [
    "sns.histplot(model.predict(X))"
   ]
  },
  {
   "cell_type": "markdown",
   "metadata": {
    "id": "0E0gqlYtLVd7"
   },
   "source": [
    "## Conclusions \n",
    "\n",
    "Overall, Random Forest had the most acurate distribution of test scores as well as prediction of Douglas County. However, Gradient Boosting was the most accurate with the highest with an r^2 value of 0.35. This still isn't super accurate, but by adding more disparate features in the future we hope we could impove the accuracy."
   ]
  }
 ],
 "metadata": {
  "colab": {
   "collapsed_sections": [],
   "name": "Regression.ipynb",
   "provenance": []
  },
  "kernelspec": {
   "display_name": "Python 3",
   "language": "python",
   "name": "python3"
  },
  "language_info": {
   "codemirror_mode": {
    "name": "ipython",
    "version": 3
   },
   "file_extension": ".py",
   "mimetype": "text/x-python",
   "name": "python",
   "nbconvert_exporter": "python",
   "pygments_lexer": "ipython3",
   "version": "3.8.5"
  }
 },
 "nbformat": 4,
 "nbformat_minor": 1
}
